{
 "cells": [
  {
   "cell_type": "markdown",
   "id": "81900d0b",
   "metadata": {},
   "source": [
    "# 코딩테스트 연습"
   ]
  },
  {
   "cell_type": "markdown",
   "id": "e9cfc2f4",
   "metadata": {},
   "source": [
    "## 약수의 개수와 덧셈\n",
    "<img src=\"img/Level 1_약수의 개수와 덧셈1.png\" height=500px width=500px align=\"left\">\n",
    "<img src=\"img/Level 1_약수의 개수와 덧셈2.png\" height=500px width=500px align=\"left\">\n",
    "<img src=\"img/Level 1_약수의 개수와 덧셈3.png\" height=500px width=500px align=\"left\">"
   ]
  },
  {
   "cell_type": "code",
   "execution_count": 1,
   "id": "437d3977",
   "metadata": {},
   "outputs": [],
   "source": [
    "def solution(left, right):\n",
    "    cnt_list = [] # 약수의 개수를 담아줄 빈 리스트 생성\n",
    "    for n in range(left, right + 1): # ex) 13 ~ 17\n",
    "        divisor_list = [] # 약수를 담아줄 빈 리스트 생성\n",
    "        for i in range(1, n + 1): # ex) 1 ~ 13\n",
    "            if n % i == 0:\n",
    "                divisor_list.append(i)\n",
    "        cnt_list.append(len(divisor_list))\n",
    "\n",
    "    # 각 숫자 별 약수의 개수를 확인해서 결과 계산\n",
    "    num_list = list(range(left, right + 1)) # 입력 받은 숫자가 담긴 리스트 생성\n",
    "    answer = 0\n",
    "    for num, cnt in zip(num_list, cnt_list):\n",
    "        if cnt % 2 == 0: # 약수의 개수가 짝수인 경우\n",
    "            answer += num\n",
    "        else:\n",
    "            answer -= num\n",
    "\n",
    "    return answer"
   ]
  },
  {
   "cell_type": "code",
   "execution_count": 2,
   "id": "c4dc1827",
   "metadata": {},
   "outputs": [
    {
     "data": {
      "text/plain": [
       "43"
      ]
     },
     "execution_count": 2,
     "metadata": {},
     "output_type": "execute_result"
    }
   ],
   "source": [
    "# Test Case 1\n",
    "left = 13\n",
    "right = 17\n",
    "solution(left, right)"
   ]
  },
  {
   "cell_type": "code",
   "execution_count": 3,
   "id": "d3f73eaa",
   "metadata": {},
   "outputs": [
    {
     "data": {
      "text/plain": [
       "52"
      ]
     },
     "execution_count": 3,
     "metadata": {},
     "output_type": "execute_result"
    }
   ],
   "source": [
    "# Test Case 2\n",
    "left = 24\n",
    "right = 27\n",
    "solution(left, right)"
   ]
  },
  {
   "cell_type": "markdown",
   "id": "cdd8d96a",
   "metadata": {},
   "source": [
    "### 다른 사람의 풀이\n",
    "- \"약수가 홀수개인 모든 수는 제곱수이다\"라는 개념을 활용하였음\n",
    "    - 즉, 제곱근이 정수로 표현이 가능한 수는 약수의 개수가 홀수개!\n",
    "```python\n",
    "    def solution(left, right):\n",
    "        answer = 0\n",
    "        for i in range(left, right + 1):\n",
    "            if int(i ** 0.5) == i ** 0.5:\n",
    "                answer -= i\n",
    "            else:\n",
    "                answer += i\n",
    "        return answer\n",
    "```"
   ]
  },
  {
   "cell_type": "markdown",
   "id": "b3cce793",
   "metadata": {},
   "source": [
    "## 없는 숫자 더하기\n",
    "<img src=\"img/Level 1_없는 숫자 더하기1.png\" height=500px width=500px align=\"left\">\n",
    "<img src=\"img/Level 1_없는 숫자 더하기2.png\" height=500px width=500px align=\"left\">"
   ]
  },
  {
   "cell_type": "code",
   "execution_count": 4,
   "id": "a3aebfe5",
   "metadata": {},
   "outputs": [],
   "source": [
    "def solution(numbers):\n",
    "    # 0 ~ 9까지의 숫자로 구성된 리스트 생성\n",
    "    num_list = list(range(10))\n",
    "\n",
    "    # 0 ~ 9까지의 숫자 중, 입력 받은 리스트에 없는 숫자만 추출\n",
    "    answer = 0\n",
    "    for num in num_list:\n",
    "        if num not in numbers:\n",
    "            answer += num\n",
    "\n",
    "    return answer"
   ]
  },
  {
   "cell_type": "code",
   "execution_count": 5,
   "id": "67b902ef",
   "metadata": {},
   "outputs": [
    {
     "data": {
      "text/plain": [
       "14"
      ]
     },
     "execution_count": 5,
     "metadata": {},
     "output_type": "execute_result"
    }
   ],
   "source": [
    "# Test Case 1\n",
    "numbers = [1, 2, 3, 4, 6, 7, 8, 0]\n",
    "solution(numbers)"
   ]
  },
  {
   "cell_type": "code",
   "execution_count": 6,
   "id": "725cae78",
   "metadata": {},
   "outputs": [
    {
     "data": {
      "text/plain": [
       "6"
      ]
     },
     "execution_count": 6,
     "metadata": {},
     "output_type": "execute_result"
    }
   ],
   "source": [
    "# Test Case 2\n",
    "numbers = [5, 8, 4, 0, 6, 7, 9]\n",
    "solution(numbers)"
   ]
  },
  {
   "cell_type": "markdown",
   "id": "f73f0b94",
   "metadata": {},
   "source": [
    "### 다른 사람의 풀이\n",
    "- 0 ~ 9까지 모두 더하면 45인데, 45에서 입력 받은 리스트 내 모든 요소 값들의 합을 빼주면 없는 숫자들만 더한 값이 계산됨!\n",
    "```python\n",
    "    def solution(numbers):\n",
    "        return 45 - sum(numbers)\n",
    "```"
   ]
  }
 ],
 "metadata": {
  "kernelspec": {
   "display_name": "Python 3 (ipykernel)",
   "language": "python",
   "name": "python3"
  },
  "language_info": {
   "codemirror_mode": {
    "name": "ipython",
    "version": 3
   },
   "file_extension": ".py",
   "mimetype": "text/x-python",
   "name": "python",
   "nbconvert_exporter": "python",
   "pygments_lexer": "ipython3",
   "version": "3.9.12"
  }
 },
 "nbformat": 4,
 "nbformat_minor": 5
}
