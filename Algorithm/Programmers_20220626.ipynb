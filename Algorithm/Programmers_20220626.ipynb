{
 "cells": [
  {
   "cell_type": "markdown",
   "id": "35dc1530",
   "metadata": {},
   "source": [
    "# 코딩 테스트 연습"
   ]
  },
  {
   "cell_type": "markdown",
   "id": "95413940",
   "metadata": {},
   "source": [
    "## 키패드 누르기\n",
    "<img src=\"img/Level 1_키패드 누르기1.png\" height=500px width=500px>\n",
    "<img src=\"img/Level 1_키패드 누르기2.png\" height=500px width=500px>\n",
    "<img src=\"img/Level 1_키패드 누르기3.png\" height=500px width=500px>\n",
    "<img src=\"img/Level 1_키패드 누르기4.png\" height=500px width=500px>\n",
    "<img src=\"img/Level 1_키패드 누르기5.png\" height=500px width=500px>"
   ]
  },
  {
   "cell_type": "code",
   "execution_count": 1,
   "id": "1651aad9",
   "metadata": {
    "ExecuteTime": {
     "end_time": "2022-06-26T06:50:00.459019Z",
     "start_time": "2022-06-26T06:50:00.437530Z"
    }
   },
   "outputs": [],
   "source": [
    "def solution(numbers, hands):\n",
    "    # 키패드를 좌표 값으로 변환\n",
    "    coord_dict = {\n",
    "        \"1\": (0, 3), \"2\": (1, 3), \"3\": (2, 3),\n",
    "        \"4\": (0, 2), \"5\": (1, 2), \"6\": (2, 2),\n",
    "        \"7\": (0, 1), \"8\": (1, 1), \"9\": (2, 1),\n",
    "        \"*\": (0, 0), \"0\": (1, 0), \"#\": (2, 0)\n",
    "    }\n",
    "\n",
    "    answer = \"\"\n",
    "    left_num = \"*\" # 왼손 초깃값 설정\n",
    "    right_num = \"#\" # 오른손 초깃값 설정\n",
    "    for num in numbers:\n",
    "        # 위에서 만든 dictionary를 활용하기 위해 입력 받은 num 값을 string으로 변환\n",
    "        num = str(num)\n",
    "\n",
    "        # 누른 키패드에 따른 처리 설정\n",
    "        if num in [\"1\", \"4\", \"7\"]: # 눌러야 할 키패드 번호가 \"1, 4, 7\"이면 \"L\" 입력\n",
    "            answer += \"L\"\n",
    "            left_num = num # 왼손이 누르고 있는 키패드의 숫자를 보관\n",
    "        elif num in [\"3\", \"6\", \"9\"]: # 눌러야 할 키패드 번호가 \"3, 6, 9\"이면 \"R\" 입력\n",
    "            answer += \"R\"\n",
    "            right_num = num # 오른손이 누르고 있는 키패드의 숫자를 보관\n",
    "        # 눌러야 할 키패드 번호가 \"2, 5, 8, 0\"이면, 거리가 더 가까운 손으로 누르도록 설정(\"L\" or \"R\")\n",
    "        # 단, 거리가 같으면 오른손잡이는 오른손 엄지손가락, 왼손잡이는 왼손 엄지손가락을 사용!\n",
    "        else:\n",
    "            # 두 엄지손가락의 현재 키패드의 위치에서 더 가까운 엄지손가락을 사용 (이를 위해 왼손/오른손 각각의 거리 계산)\n",
    "            target_coord = coord_dict[num]\n",
    "            left_coord = coord_dict[left_num]\n",
    "            right_coord = coord_dict[right_num]\n",
    "\n",
    "            # 그냥 \"유클리디안 거리\" 공식을 써버리면, 대각선으로도 거리가 계산이 되어버리는 문제가 발생함...\n",
    "            # 따라서 눌러야 할 키패드의 X 좌표와 왼손/오른손이 누르고 있는 키패드의 X 좌표를 뺀 값의 절댓값과\n",
    "            # 눌러야 할 키패드의 Y 좌표와 왼손/오른손이 누르고 있는 키패드의 Y 좌표를 뺀 값의 절댓값을 더해서 거리를 계산!\n",
    "            dist_left = (abs(target_coord[0] - left_coord[0]) + abs(target_coord[1] - left_coord[1]))\n",
    "            dist_right = (abs(target_coord[0] - right_coord[0]) + abs(target_coord[1] - right_coord[1]))\n",
    "\n",
    "            if dist_left < dist_right:\n",
    "                answer += \"L\"\n",
    "                left_num = num # 왼손이 누르고 있는 키패드의 숫자를 보관\n",
    "            elif dist_left > dist_right:\n",
    "                answer += \"R\"\n",
    "                right_num = num # 오른손이 누르고 있는 키패드의 숫자를 보관\n",
    "            # 만약 두 엄지손가락의 거리가 같다면, 오른손잡이는 오른손 엄지손가락, 왼손잡이는 왼손 엄지손가락을 사용\n",
    "            else:\n",
    "                if hands == \"left\":\n",
    "                    answer += \"L\"\n",
    "                    left_num = num # 왼손이 누르고 있는 키패드의 숫자를 보관\n",
    "                else:\n",
    "                    answer += \"R\"\n",
    "                    right_num = num # 오른손이 누르고 있는 키패드의 숫자를 보관\n",
    "                    \n",
    "    return answer"
   ]
  },
  {
   "cell_type": "code",
   "execution_count": 2,
   "id": "5245dc46",
   "metadata": {
    "ExecuteTime": {
     "end_time": "2022-06-26T06:50:00.489384Z",
     "start_time": "2022-06-26T06:50:00.461645Z"
    }
   },
   "outputs": [
    {
     "data": {
      "text/plain": [
       "'LRLLLRLLRRL'"
      ]
     },
     "execution_count": 2,
     "metadata": {},
     "output_type": "execute_result"
    }
   ],
   "source": [
    "# Test Case 1\n",
    "numbers = [1, 3, 4, 5, 8, 2, 1, 4, 5, 9, 5]\n",
    "hands = \"right\"\n",
    "solution(numbers, hands)"
   ]
  },
  {
   "cell_type": "code",
   "execution_count": 3,
   "id": "c3179ad8",
   "metadata": {
    "ExecuteTime": {
     "end_time": "2022-06-26T06:50:00.505011Z",
     "start_time": "2022-06-26T06:50:00.493619Z"
    }
   },
   "outputs": [
    {
     "data": {
      "text/plain": [
       "'LRLLRRLLLRR'"
      ]
     },
     "execution_count": 3,
     "metadata": {},
     "output_type": "execute_result"
    }
   ],
   "source": [
    "# Test Case 2\n",
    "numbers = [7, 0, 8, 2, 8, 3, 1, 5, 7, 6, 2]\n",
    "hands = \"left\"\n",
    "solution(numbers, hands)"
   ]
  },
  {
   "cell_type": "code",
   "execution_count": 4,
   "id": "8fd69794",
   "metadata": {
    "ExecuteTime": {
     "end_time": "2022-06-26T06:50:00.520695Z",
     "start_time": "2022-06-26T06:50:00.509006Z"
    }
   },
   "outputs": [
    {
     "data": {
      "text/plain": [
       "'LLRLLRLLRL'"
      ]
     },
     "execution_count": 4,
     "metadata": {},
     "output_type": "execute_result"
    }
   ],
   "source": [
    "# Test Case 3\n",
    "numbers = [1, 2, 3, 4, 5, 6, 7, 8, 9, 0]\n",
    "hands = \"right\"\n",
    "solution(numbers, hands)"
   ]
  },
  {
   "cell_type": "markdown",
   "id": "ad0b6d18",
   "metadata": {},
   "source": [
    "## 다른 사람의 풀이\n",
    "- Best 답안도 나의 풀이와 동일하게 좌표를 활용하여 거리를 구하는 방식으로 코드를 작성하였음"
   ]
  }
 ],
 "metadata": {
  "kernelspec": {
   "display_name": "Python 3 (ipykernel)",
   "language": "python",
   "name": "python3"
  },
  "language_info": {
   "codemirror_mode": {
    "name": "ipython",
    "version": 3
   },
   "file_extension": ".py",
   "mimetype": "text/x-python",
   "name": "python",
   "nbconvert_exporter": "python",
   "pygments_lexer": "ipython3",
   "version": "3.9.12"
  },
  "toc": {
   "base_numbering": 1,
   "nav_menu": {},
   "number_sections": true,
   "sideBar": true,
   "skip_h1_title": false,
   "title_cell": "Table of Contents",
   "title_sidebar": "Contents",
   "toc_cell": false,
   "toc_position": {},
   "toc_section_display": true,
   "toc_window_display": false
  },
  "varInspector": {
   "cols": {
    "lenName": 16,
    "lenType": 16,
    "lenVar": 40
   },
   "kernels_config": {
    "python": {
     "delete_cmd_postfix": "",
     "delete_cmd_prefix": "del ",
     "library": "var_list.py",
     "varRefreshCmd": "print(var_dic_list())"
    },
    "r": {
     "delete_cmd_postfix": ") ",
     "delete_cmd_prefix": "rm(",
     "library": "var_list.r",
     "varRefreshCmd": "cat(var_dic_list()) "
    }
   },
   "types_to_exclude": [
    "module",
    "function",
    "builtin_function_or_method",
    "instance",
    "_Feature"
   ],
   "window_display": false
  }
 },
 "nbformat": 4,
 "nbformat_minor": 5
}
