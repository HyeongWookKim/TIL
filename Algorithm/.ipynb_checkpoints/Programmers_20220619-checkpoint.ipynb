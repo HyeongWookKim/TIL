{
 "cells": [
  {
   "cell_type": "markdown",
   "id": "37b668e2",
   "metadata": {},
   "source": [
    "# 코딩테스트 연습"
   ]
  },
  {
   "cell_type": "markdown",
   "id": "d3be2da5",
   "metadata": {},
   "source": [
    "## 실패율\n",
    "<img src=\"img/Level 1_실패율1.png\" height=500px width=500px align=\"left\">\n",
    "<img src=\"img/Level 1_실패율2.png\" height=500px width=500px align=\"left\">\n",
    "<img src=\"img/Level 1_실패율3.png\" height=500px width=500px align=\"left\">"
   ]
  },
  {
   "cell_type": "code",
   "execution_count": 1,
   "id": "0e7d15b4",
   "metadata": {},
   "outputs": [],
   "source": [
    "def solution(N, stages):\n",
    "    # 스테이지에 도달한 플레이어 수 계산\n",
    "    fail_ratio_list = []\n",
    "    for num in range(1, N + 1):\n",
    "        # 스테이지에 도달한 플레이어 수\n",
    "        denominator = len([stage for stage in stages if stage >= num])\n",
    "\n",
    "        # 스테이지에 도달했으나 아직 클리어하지 못한 플레이어의 수\n",
    "        numerator = stages.count(num)\n",
    "\n",
    "        # 만약 스테이지에 도달한 플레이어 수가 0으로 계산되면, 실패율 계산에서 오류가 발생함\n",
    "        # 따라서 해당 오류가 발생하면, 실패율 값을 0으로 계산하도록 지정할 것!\n",
    "        try:\n",
    "            # 해당 스테이지의 실패율 계산\n",
    "            fail_ratio = numerator / denominator\n",
    "        except:\n",
    "            # 해당 스테이지의 실패율을 0으로 설정\n",
    "            fail_ratio = 0\n",
    "\n",
    "        # 각 스테이지 번호와 해당 실패율을 리스트에 append\n",
    "        fail_ratio_list.append([num, fail_ratio])\n",
    "\n",
    "    # 실패율 기준 내림차순 정렬\n",
    "    fail_ratio_list.sort(key = lambda x: x[1], reverse = True)\n",
    "\n",
    "    # 스테이지의 번호가 담겨있는 배열만 return\n",
    "    result = [s[0] for s in fail_ratio_list]\n",
    "    \n",
    "    return result"
   ]
  },
  {
   "cell_type": "code",
   "execution_count": 2,
   "id": "4bb5ccf9",
   "metadata": {},
   "outputs": [
    {
     "data": {
      "text/plain": [
       "[3, 4, 2, 1, 5]"
      ]
     },
     "execution_count": 2,
     "metadata": {},
     "output_type": "execute_result"
    }
   ],
   "source": [
    "# Test Case 1\n",
    "N = 5\n",
    "stages = [2, 1, 2, 6, 2, 4, 3, 3]\n",
    "solution(N, stages)"
   ]
  },
  {
   "cell_type": "code",
   "execution_count": 3,
   "id": "5c465261",
   "metadata": {},
   "outputs": [
    {
     "data": {
      "text/plain": [
       "[4, 1, 2, 3]"
      ]
     },
     "execution_count": 3,
     "metadata": {},
     "output_type": "execute_result"
    }
   ],
   "source": [
    "# Test Case 2\n",
    "N = 4\n",
    "stages = [4, 4, 4, 4, 4]\n",
    "solution(N, stages)"
   ]
  },
  {
   "cell_type": "markdown",
   "id": "0ad1d609",
   "metadata": {},
   "source": [
    "### 다른 사람의 풀이\n",
    "- 전반적인 풀이 방법은 나와 유사하나, denominator 값을 초기에 설정해두고 그 값에서 count 값을 계속 빼주는 식으로 진행하였음\n",
    "- 그러다 denominator 값이 0이 되면 실패율 값이 0으로 지정되도록 해주었음\n",
    "```python\n",
    "    def solution(N, stages):\n",
    "        result = {}\n",
    "        denominator = len(stages)\n",
    "        for stage in range(1, N + 1):\n",
    "            if denominator != 0:\n",
    "                count = stages.count(stage)\n",
    "                result[stage] = count / denominator\n",
    "                denominator -= count\n",
    "            else:\n",
    "                result[stage] = 0\n",
    "        return sorted(result, key = lambda x: result[x], reverse = True)\n",
    "```"
   ]
  },
  {
   "cell_type": "markdown",
   "id": "e0a3a564",
   "metadata": {},
   "source": [
    "## 폰켓몬\n",
    "<img src=\"img/Level 1_폰켓몬1.png\" height=500px width=500px align=\"left\">\n",
    "<img src=\"img/Level 1_폰켓몬2.png\" height=500px width=500px align=\"left\">\n",
    "<img src=\"img/Level 1_폰켓몬3.png\" height=500px width=500px align=\"left\">"
   ]
  },
  {
   "cell_type": "code",
   "execution_count": 4,
   "id": "ad481110",
   "metadata": {},
   "outputs": [],
   "source": [
    "def solution(nums):\n",
    "    # 골라야 하는 폰켓몬 마리수\n",
    "    n_choose = int(len(nums) / 2)\n",
    "\n",
    "    # Unique한 폰켓몬 종류 번호 개수\n",
    "    n_uniq_type = len(set(nums))\n",
    "    \n",
    "    return min(n_uniq_type, n_choose)"
   ]
  },
  {
   "cell_type": "code",
   "execution_count": 5,
   "id": "f00a8781",
   "metadata": {},
   "outputs": [
    {
     "data": {
      "text/plain": [
       "2"
      ]
     },
     "execution_count": 5,
     "metadata": {},
     "output_type": "execute_result"
    }
   ],
   "source": [
    "# Test Case 1\n",
    "nums = [3, 1, 2, 3]\n",
    "solution(nums)"
   ]
  },
  {
   "cell_type": "code",
   "execution_count": 6,
   "id": "ce715cc0",
   "metadata": {},
   "outputs": [
    {
     "data": {
      "text/plain": [
       "3"
      ]
     },
     "execution_count": 6,
     "metadata": {},
     "output_type": "execute_result"
    }
   ],
   "source": [
    "# Test Case 2\n",
    "nums = [3, 3, 3, 2, 2, 4]\n",
    "solution(nums)"
   ]
  },
  {
   "cell_type": "code",
   "execution_count": 7,
   "id": "9a489d33",
   "metadata": {},
   "outputs": [
    {
     "data": {
      "text/plain": [
       "2"
      ]
     },
     "execution_count": 7,
     "metadata": {},
     "output_type": "execute_result"
    }
   ],
   "source": [
    "# Test Case 3\n",
    "nums = [3, 3, 3, 2, 2, 2]\n",
    "solution(nums)"
   ]
  },
  {
   "cell_type": "markdown",
   "id": "efdf7cf8",
   "metadata": {},
   "source": [
    "### 다른 사람의 풀이\n",
    "- Best 답안 역시 나와 동일한 방식으로 풀었음\n",
    "    - 다만, best 답안에서는 return 값에 전체 과정을 한 번에 적어주었음\n",
    "```python\n",
    "    def solution(nums):\n",
    "        return min(len(nums) / 2, len(set(nums)))\n",
    "```"
   ]
  }
 ],
 "metadata": {
  "kernelspec": {
   "display_name": "Python 3 (ipykernel)",
   "language": "python",
   "name": "python3"
  },
  "language_info": {
   "codemirror_mode": {
    "name": "ipython",
    "version": 3
   },
   "file_extension": ".py",
   "mimetype": "text/x-python",
   "name": "python",
   "nbconvert_exporter": "python",
   "pygments_lexer": "ipython3",
   "version": "3.9.12"
  }
 },
 "nbformat": 4,
 "nbformat_minor": 5
}
