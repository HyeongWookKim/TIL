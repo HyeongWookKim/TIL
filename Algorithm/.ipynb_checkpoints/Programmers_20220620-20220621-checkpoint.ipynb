{
 "cells": [
  {
   "cell_type": "markdown",
   "id": "71f242a5",
   "metadata": {},
   "source": [
    "# 코딩테스트 연습"
   ]
  },
  {
   "cell_type": "markdown",
   "id": "34d5a431",
   "metadata": {},
   "source": [
    "## 신고 결과 받기\n",
    "<img src=\"img/Level 1_신고 결과 받기1.png\" height=500px width=500px align=\"left\">\n",
    "<img src=\"img/Level 1_신고 결과 받기2.png\" height=500px width=500px align=\"left\">\n",
    "<img src=\"img/Level 1_신고 결과 받기3.png\" height=500px width=500px align=\"left\">\n",
    "<img src=\"img/Level 1_신고 결과 받기4.png\" height=500px width=500px align=\"left\">"
   ]
  },
  {
   "cell_type": "code",
   "execution_count": 1,
   "id": "3dd6b39f",
   "metadata": {
    "ExecuteTime": {
     "end_time": "2022-06-21T02:20:01.824745Z",
     "start_time": "2022-06-21T02:20:01.792252Z"
    }
   },
   "outputs": [],
   "source": [
    "# 아래는 \"시간 초과\" 문제가 발생한 나의 코드...\n",
    "def solution(id_list, report, k):\n",
    "    # 한 명의 유저가 같은 유저를 여러 번 신고한 경우, 신고 횟수를 1회로 처리해줘야 함!\n",
    "    report = list(set(report))\n",
    "\n",
    "    # 각 유저가 신고한 id 추출\n",
    "    each_report_id_dict = {}\n",
    "    for u_id in id_list:\n",
    "        each_report_id_list = [] # 각 유저별 신고한 id를 담아줄 리스트\n",
    "        for r_id in report:\n",
    "            if r_id.split(' ')[0] == u_id:\n",
    "                each_report_id_list.append(r_id.split(' ')[1])\n",
    "\n",
    "        each_report_id_dict[u_id] = each_report_id_list\n",
    "\n",
    "    total_report_id_list = []\n",
    "    for r_id in report:\n",
    "        total_report_id_list.append(r_id.split(' ')[1])\n",
    "\n",
    "    # 각 유저별 신고당한 횟수를 활용하여 정지된 id 추출\n",
    "    suspended_id_list = []\n",
    "    for u_id in id_list:\n",
    "        if total_report_id_list.count(u_id) >= k: # k번 이상 신고당한 경우\n",
    "            suspended_id_list.append(u_id)\n",
    "\n",
    "    # 각 유저별로 처리 결과 메일을 받은 횟수 계산\n",
    "    result = []\n",
    "    for k, v in each_report_id_dict.items():\n",
    "        cnt = 0\n",
    "        for s_id in suspended_id_list:\n",
    "            if s_id in v: # 해당 유저가 신고한 id 리스트에 정지된 id가 포함된 경우\n",
    "                cnt += 1\n",
    "        result.append(cnt)\n",
    "    \n",
    "    return result"
   ]
  },
  {
   "cell_type": "code",
   "execution_count": 2,
   "id": "2897f1b0",
   "metadata": {
    "ExecuteTime": {
     "end_time": "2022-06-21T02:20:02.510603Z",
     "start_time": "2022-06-21T02:20:02.479490Z"
    }
   },
   "outputs": [
    {
     "data": {
      "text/plain": [
       "[2, 1, 1, 0]"
      ]
     },
     "execution_count": 2,
     "metadata": {},
     "output_type": "execute_result"
    }
   ],
   "source": [
    "# Test Case 1\n",
    "id_list = [\"muzi\", \"frodo\", \"apeach\", \"neo\"]\n",
    "report = [\"muzi frodo\", \"apeach frodo\", \"frodo neo\", \"muzi neo\", \"apeach muzi\"]\n",
    "k = 2\n",
    "solution(id_list, report, k)"
   ]
  },
  {
   "cell_type": "code",
   "execution_count": 3,
   "id": "45e4e773",
   "metadata": {
    "ExecuteTime": {
     "end_time": "2022-06-21T02:20:02.837435Z",
     "start_time": "2022-06-21T02:20:02.806559Z"
    }
   },
   "outputs": [
    {
     "data": {
      "text/plain": [
       "[0, 0]"
      ]
     },
     "execution_count": 3,
     "metadata": {},
     "output_type": "execute_result"
    }
   ],
   "source": [
    "# Test Case 2\n",
    "id_list = [\"con\", \"ryan\"]\n",
    "report = [\"ryan con\", \"ryan con\", \"ryan con\", \"ryan con\"]\n",
    "k = 3\n",
    "solution(id_list, report, k)"
   ]
  },
  {
   "cell_type": "markdown",
   "id": "5bb61f87",
   "metadata": {},
   "source": [
    "### 다른 사람의 풀이 1\n",
    "- 아래의 풀이는 dictionary 기능을 활용해서 풀었으나, 나와 동일하게 \"시간 초과\" 문제가 발생함...\n",
    "```python\n",
    "    def solution(id_list, report, k):\n",
    "        # 한 명의 유저가 같은 유저를 여러 번 신고한 경우, 신고 횟수를 \"1회\"로 처리해주기 위함\n",
    "        report = list(set(report))\n",
    "\n",
    "        # 사전 설정\n",
    "        answer = [0] * len(id_list) # 각 유저가 받은 메일 횟수를 담아주기 위한 리스트 (0으로 초기화)\n",
    "        reported_list = [] # 신고당한 id를 담아줄 빈 리스트 생성\n",
    "        report_dict = {u_id: [] for u_id in id_list} # key를 \"유저\" value를 [](빈 리스트)로 갖는 dictionary 생성\n",
    "\n",
    "        # 각 유저별 신고한 id 구하기\n",
    "        for r in report:\n",
    "            r_list = r.split(' ')\n",
    "            reported_list.append(r_list[1]) # 정지된 id\n",
    "            report_dict[r_list[0]].append(r_list[1]) # \n",
    "\n",
    "        # 신고당한 id 중, 신고당한 횟수가 k번 이상인 경우만 남기기\n",
    "        # 즉, 정지된 id만 추출!\n",
    "        suspended_list = set([r for r in reported_list if reported_list.count(r) >= k])\n",
    "\n",
    "        for k, v in report_dict.items():\n",
    "            for s in suspended_list:\n",
    "                if s in v: # 각 유저가 신고한 id 중, 정지된 id가 포함된 경우\n",
    "                    # 해당 유저의 index를 찾아가서 answer 값을 +1\n",
    "                    # >> 정지된 id 개수만큼 메일을 받을 것이기 때문!\n",
    "                    answer[id_list.index(k)] += 1\n",
    "\n",
    "        return answer\n",
    "```"
   ]
  },
  {
   "cell_type": "markdown",
   "id": "103988b2",
   "metadata": {},
   "source": [
    "### 다른 사람의 풀이 2\n",
    "- ```collections``` 라이브러리의 ```defaultdict```이라는 함수를 활용하였음\n",
    "    - 아래의 코드는 \"시간 초과\" 문제가 발생하지 않음..!\n",
    "```python\n",
    "    # defaultdict() 함수는 value의 타입만 지정해준다면, \n",
    "    # key에 매핑되는 값을 하나하나 지정해주지 않아도 자동으로 기본값이 들어가 있음\n",
    "    from collections import defaultdict\n",
    "    \n",
    "    def solution(id_list, report, k):\n",
    "        answer = [0] * len(id_list) # 각 유저가 받은 메일 횟수를 담아주기 위한 리스트 (0으로 초기화)\n",
    "\n",
    "        # 한 명의 유저가 같은 유저를 여러 번 신고한 경우, 신고 횟수를 \"1회\"로 처리해주기 위함\n",
    "        report = set(report)\n",
    "\n",
    "        # 신고를 행한 유저 A(string): 유저 A가 신고한 유저 목록(set)\n",
    "        user_list_who_i_report = defaultdict(set) # value 타입을 set으로 지정\n",
    "        # 신고를 당한 유저 A(string): 유저 A가 신고당한 횟수(int)\n",
    "        num_of_reported = defaultdict(int) # value 타입을 int로 지정\n",
    "        suspended = [] # 정지당한 유저의 목록을 담아줄 리스트\n",
    "\n",
    "        for r in report:\n",
    "            # \"신고한 유저\"와 \"신고당한 유저\"를 구분 \n",
    "            do_report, be_reported = r.split()\n",
    "\n",
    "            # 유저별 신고당한 횟수 기록\n",
    "            num_of_reported[be_reported] += 1\n",
    "            # \"신고한 유저\": {\"신고당한 유저\"} 형태로 dictionary 값 추가\n",
    "            user_list_who_i_report[do_report].add(be_reported) # add(): set에 요소를 추가해주는 함수\n",
    "\n",
    "            # k번 신고를 당했으면 suspended 리스트에 넣어주기\n",
    "            if num_of_reported[be_reported] == k:\n",
    "                suspended.append(be_reported)\n",
    "\n",
    "        # 신고당한 유저 목록 중, 정지 목록에 담긴 유저들이 포함된 경우 answer 값을 +1\n",
    "        for s in suspended:\n",
    "            for i in range(len(id_list)):\n",
    "                if s in user_list_who_i_report[id_list[i]]:\n",
    "                    answer[i] += 1\n",
    "\n",
    "        return answer\n",
    "```"
   ]
  },
  {
   "cell_type": "markdown",
   "id": "9911e47a",
   "metadata": {},
   "source": [
    "### 다른 사람의 풀이 3\n",
    "- 와..이렇게 간결하게 풀 수도 있었네...\n",
    "```python\n",
    "    def solution(id_list, report, k):\n",
    "        answer = [0] * len(id_list) # 각 유저가 받은 메일 횟수를 담아주기 위한 리스트 (0으로 초기화)\n",
    "        reports = {x : 0 for x in id_list} # key를 \"유저\" value를 0으로 갖는 dictionary 생성\n",
    "\n",
    "        # 한 명의 유저가 같은 유저를 여러 번 신고한 경우, 신고 횟수를 \"1회\"로 처리해주기 위해 set() 함수 사용\n",
    "        report = set(report)\n",
    "\n",
    "        for r in report:\n",
    "            # 앞서 정의한 reports dictionary에서 key 값이 신고당한 유저에 해당하는 value를 +1\n",
    "            # 즉, 신고당한 유저가 있으면 +1을 해주는 방식\n",
    "            reports[r.split()[1]] += 1\n",
    "\n",
    "        for r in report:\n",
    "            # 신고당한 횟수가 k번 이상이면, 해당 유저의 index를 활용해서 answer 값을 +1\n",
    "            if reports[r.split()[1]] >= k:\n",
    "                answer[id_list.index(r.split()[0])] += 1\n",
    "\n",
    "        return answer\n",
    "```"
   ]
  }
 ],
 "metadata": {
  "kernelspec": {
   "display_name": "Python 3 (ipykernel)",
   "language": "python",
   "name": "python3"
  },
  "language_info": {
   "codemirror_mode": {
    "name": "ipython",
    "version": 3
   },
   "file_extension": ".py",
   "mimetype": "text/x-python",
   "name": "python",
   "nbconvert_exporter": "python",
   "pygments_lexer": "ipython3",
   "version": "3.9.12"
  },
  "toc": {
   "base_numbering": 1,
   "nav_menu": {},
   "number_sections": true,
   "sideBar": true,
   "skip_h1_title": false,
   "title_cell": "Table of Contents",
   "title_sidebar": "Contents",
   "toc_cell": false,
   "toc_position": {},
   "toc_section_display": true,
   "toc_window_display": false
  },
  "varInspector": {
   "cols": {
    "lenName": 16,
    "lenType": 16,
    "lenVar": 40
   },
   "kernels_config": {
    "python": {
     "delete_cmd_postfix": "",
     "delete_cmd_prefix": "del ",
     "library": "var_list.py",
     "varRefreshCmd": "print(var_dic_list())"
    },
    "r": {
     "delete_cmd_postfix": ") ",
     "delete_cmd_prefix": "rm(",
     "library": "var_list.r",
     "varRefreshCmd": "cat(var_dic_list()) "
    }
   },
   "types_to_exclude": [
    "module",
    "function",
    "builtin_function_or_method",
    "instance",
    "_Feature"
   ],
   "window_display": false
  }
 },
 "nbformat": 4,
 "nbformat_minor": 5
}
