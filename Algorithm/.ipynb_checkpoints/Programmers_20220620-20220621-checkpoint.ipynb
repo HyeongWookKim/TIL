{
 "cells": [
  {
   "cell_type": "markdown",
   "id": "71f242a5",
   "metadata": {},
   "source": [
    "# 코딩테스트 연습"
   ]
  },
  {
   "cell_type": "markdown",
   "id": "34d5a431",
   "metadata": {},
   "source": [
    "## 신고 결과 받기\n",
    "<img src=\"img/Level 1_신고 결과 받기1.png\" height=500px width=500px>\n",
    "<img src=\"img/Level 1_신고 결과 받기2.png\" height=500px width=500px>\n",
    "<img src=\"img/Level 1_신고 결과 받기3.png\" height=500px width=500px>\n",
    "<img src=\"img/Level 1_신고 결과 받기4.png\" height=500px width=500px>"
   ]
  },
  {
   "cell_type": "code",
   "execution_count": 78,
   "id": "0b242dc6",
   "metadata": {
    "ExecuteTime": {
     "end_time": "2022-06-20T14:00:32.021806Z",
     "start_time": "2022-06-20T14:00:31.997394Z"
    }
   },
   "outputs": [],
   "source": [
    "# Test Case 1\n",
    "id_list = [\"muzi\", \"frodo\", \"apeach\", \"neo\"]\n",
    "report = [\"muzi frodo\", \"apeach frodo\", \"frodo neo\", \"muzi neo\", \"apeach muzi\"]\n",
    "k = 2"
   ]
  },
  {
   "cell_type": "code",
   "execution_count": 80,
   "id": "26a2f55f",
   "metadata": {
    "ExecuteTime": {
     "end_time": "2022-06-20T14:01:13.423603Z",
     "start_time": "2022-06-20T14:01:13.415386Z"
    }
   },
   "outputs": [],
   "source": [
    "# Test Case 2\n",
    "id_list = [\"con\", \"ryan\"]\n",
    "report = [\"ryan con\", \"ryan con\", \"ryan con\", \"ryan con\"]\n",
    "k = 3"
   ]
  },
  {
   "cell_type": "code",
   "execution_count": 81,
   "id": "0d3a6be7",
   "metadata": {
    "ExecuteTime": {
     "end_time": "2022-06-20T14:01:13.610970Z",
     "start_time": "2022-06-20T14:01:13.588542Z"
    }
   },
   "outputs": [
    {
     "name": "stdout",
     "output_type": "stream",
     "text": [
      "{'con': [], 'ryan': ['con']}\n",
      "['con']\n",
      "[]\n",
      "con []\n",
      "ryan ['con']\n",
      "[0, 0]\n"
     ]
    }
   ],
   "source": [
    "# 각 유저가 신고한 id 추출\n",
    "each_report_id_dict = {}\n",
    "for u_id in id_list:\n",
    "    each_report_id_list = []\n",
    "    for r_id in report:\n",
    "        if r_id.split(' ')[0] == u_id:\n",
    "            each_report_id_list.append(r_id.split(' ')[1])\n",
    "    # 한 명의 유저가 같은 유저를 여러 번 신고한 경우, 신고 횟수를 1회로 처리해줘야 함!\n",
    "    each_report_id_list = list(set(each_report_id_list))\n",
    "    each_report_id_dict[u_id] = each_report_id_list\n",
    "print(each_report_id_dict)\n",
    "    \n",
    "# 각 유저별 신고당한 횟수를 활용하여 정지된 id 추출\n",
    "report_id_list = [y for x in list(each_report_id_dict.values()) for y in x]\n",
    "print(report_id_list)\n",
    "\n",
    "suspended_id_list = []\n",
    "for u_id in id_list:\n",
    "    if report_id_list.count(u_id) >= k: # k번 이상 신고당한 경우\n",
    "        suspended_id_list.append(u_id)\n",
    "print(suspended_id_list)\n",
    "\n",
    "# 각 유저별로 처리 결과 메일을 받은 횟수 계산\n",
    "result = []\n",
    "for k, v in each_report_id_dict.items():\n",
    "    print(k, v)\n",
    "    cnt = 0\n",
    "    for s_id in suspended_id_list:\n",
    "        if s_id in v: # 해당 유저가 신고한 id 리스트에 정지된 id가 포함된 경우\n",
    "            cnt += 1\n",
    "    result.append(cnt)\n",
    "print(result)"
   ]
  },
  {
   "cell_type": "code",
   "execution_count": null,
   "id": "beb9d94a",
   "metadata": {},
   "outputs": [],
   "source": []
  },
  {
   "cell_type": "code",
   "execution_count": 93,
   "id": "3dd6b39f",
   "metadata": {
    "ExecuteTime": {
     "end_time": "2022-06-20T14:07:49.536311Z",
     "start_time": "2022-06-20T14:07:49.525048Z"
    }
   },
   "outputs": [],
   "source": [
    "def solution(id_list, report, k):\n",
    "    # 각 유저가 신고한 id 추출\n",
    "    each_report_id_dict = {}\n",
    "    for u_id in id_list:\n",
    "        each_report_id_list = []\n",
    "        for r_id in report:\n",
    "            if r_id.split(' ')[0] == u_id:\n",
    "                each_report_id_list.append(r_id.split(' ')[1])\n",
    "        # 한 명의 유저가 같은 유저를 여러 번 신고한 경우, 신고 횟수를 1회로 처리해줘야 함!\n",
    "        each_report_id_list = list(set(each_report_id_list))\n",
    "        each_report_id_dict[u_id] = each_report_id_list\n",
    "\n",
    "    # 각 유저별 신고당한 횟수를 활용하여 정지된 id 추출\n",
    "    report_id_list = [y for x in list(each_report_id_dict.values()) for y in x]\n",
    "    suspended_id_list = []\n",
    "    for u_id in id_list:\n",
    "        if report_id_list.count(u_id) >= k: # k번 이상 신고당한 경우\n",
    "            suspended_id_list.append(u_id)\n",
    "\n",
    "    # 각 유저별로 처리 결과 메일을 받은 횟수 계산\n",
    "    result = []\n",
    "    for k, v in each_report_id_dict.items():\n",
    "        cnt = 0\n",
    "        for s_id in suspended_id_list:\n",
    "            if s_id in v: # 해당 유저가 신고한 id 리스트에 정지된 id가 포함된 경우\n",
    "                cnt += 1\n",
    "        result.append(cnt)\n",
    "    \n",
    "    return result"
   ]
  },
  {
   "cell_type": "code",
   "execution_count": 94,
   "id": "2897f1b0",
   "metadata": {
    "ExecuteTime": {
     "end_time": "2022-06-20T14:07:49.769081Z",
     "start_time": "2022-06-20T14:07:49.747849Z"
    }
   },
   "outputs": [
    {
     "data": {
      "text/plain": [
       "[2, 1, 1, 0]"
      ]
     },
     "execution_count": 94,
     "metadata": {},
     "output_type": "execute_result"
    }
   ],
   "source": [
    "# Test Case 1\n",
    "id_list = [\"muzi\", \"frodo\", \"apeach\", \"neo\"]\n",
    "report = [\"muzi frodo\", \"apeach frodo\", \"frodo neo\", \"muzi neo\", \"apeach muzi\"]\n",
    "k = 2\n",
    "solution(id_list, report, k)"
   ]
  },
  {
   "cell_type": "code",
   "execution_count": 95,
   "id": "45e4e773",
   "metadata": {
    "ExecuteTime": {
     "end_time": "2022-06-20T14:07:50.108360Z",
     "start_time": "2022-06-20T14:07:50.084313Z"
    }
   },
   "outputs": [
    {
     "data": {
      "text/plain": [
       "[0, 0]"
      ]
     },
     "execution_count": 95,
     "metadata": {},
     "output_type": "execute_result"
    }
   ],
   "source": [
    "# Test Case 2\n",
    "id_list = [\"con\", \"ryan\"]\n",
    "report = [\"ryan con\", \"ryan con\", \"ryan con\", \"ryan con\"]\n",
    "k = 3\n",
    "solution(id_list, report, k)"
   ]
  },
  {
   "cell_type": "markdown",
   "id": "5bb61f87",
   "metadata": {},
   "source": [
    "### 다른 사람의 풀이\n",
    "- "
   ]
  }
 ],
 "metadata": {
  "kernelspec": {
   "display_name": "Python 3 (ipykernel)",
   "language": "python",
   "name": "python3"
  },
  "language_info": {
   "codemirror_mode": {
    "name": "ipython",
    "version": 3
   },
   "file_extension": ".py",
   "mimetype": "text/x-python",
   "name": "python",
   "nbconvert_exporter": "python",
   "pygments_lexer": "ipython3",
   "version": "3.9.12"
  },
  "toc": {
   "base_numbering": 1,
   "nav_menu": {},
   "number_sections": true,
   "sideBar": true,
   "skip_h1_title": false,
   "title_cell": "Table of Contents",
   "title_sidebar": "Contents",
   "toc_cell": false,
   "toc_position": {},
   "toc_section_display": true,
   "toc_window_display": false
  },
  "varInspector": {
   "cols": {
    "lenName": 16,
    "lenType": 16,
    "lenVar": 40
   },
   "kernels_config": {
    "python": {
     "delete_cmd_postfix": "",
     "delete_cmd_prefix": "del ",
     "library": "var_list.py",
     "varRefreshCmd": "print(var_dic_list())"
    },
    "r": {
     "delete_cmd_postfix": ") ",
     "delete_cmd_prefix": "rm(",
     "library": "var_list.r",
     "varRefreshCmd": "cat(var_dic_list()) "
    }
   },
   "types_to_exclude": [
    "module",
    "function",
    "builtin_function_or_method",
    "instance",
    "_Feature"
   ],
   "window_display": false
  }
 },
 "nbformat": 4,
 "nbformat_minor": 5
}
