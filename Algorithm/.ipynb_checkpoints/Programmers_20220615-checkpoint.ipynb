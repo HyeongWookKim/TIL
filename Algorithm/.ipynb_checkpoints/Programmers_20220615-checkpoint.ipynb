{
 "cells": [
  {
   "cell_type": "markdown",
   "id": "7fd36797",
   "metadata": {},
   "source": [
    "# 코딩테스트 연습"
   ]
  },
  {
   "cell_type": "markdown",
   "id": "1b91da91",
   "metadata": {},
   "source": [
    "## 3진법 뒤집기\n",
    "<img src=\"img/Level 1_3진법 뒤집기1.png\" height=500px width=500px align=\"left\">\n",
    "<img src=\"img/Level 1_3진법 뒤집기2.png\" height=500px width=500px align=\"left\">"
   ]
  },
  {
   "cell_type": "code",
   "execution_count": 1,
   "id": "d87c8ade",
   "metadata": {},
   "outputs": [],
   "source": [
    "def solution(n):\n",
    "    result = []\n",
    "    while n > 0:\n",
    "        q, r = divmod(n, 3) # 몫과 나머지 계산\n",
    "        result.append(str(r)) # 나머지 값만 따로 저장\n",
    "        n = q # n 값 업데이트\n",
    "\n",
    "    # List to string\n",
    "    rev_str = ''.join(result)\n",
    "\n",
    "    # 3진법 >> 10진법 변환\n",
    "    answer = int(rev_str, 3)\n",
    "\n",
    "    return answer"
   ]
  },
  {
   "cell_type": "code",
   "execution_count": 2,
   "id": "1bb38dcf",
   "metadata": {},
   "outputs": [
    {
     "data": {
      "text/plain": [
       "7"
      ]
     },
     "execution_count": 2,
     "metadata": {},
     "output_type": "execute_result"
    }
   ],
   "source": [
    "# Test Case 1\n",
    "n = 45\n",
    "solution(n)"
   ]
  },
  {
   "cell_type": "code",
   "execution_count": 3,
   "id": "4af61334",
   "metadata": {},
   "outputs": [
    {
     "data": {
      "text/plain": [
       "229"
      ]
     },
     "execution_count": 3,
     "metadata": {},
     "output_type": "execute_result"
    }
   ],
   "source": [
    "# Test Case 2\n",
    "n = 125\n",
    "solution(n)"
   ]
  },
  {
   "cell_type": "markdown",
   "id": "c015aa10",
   "metadata": {},
   "source": [
    "### 다른 사람의 풀이\n",
    "- 다른 사람의 풀이를 보니, 내가 푼 방식이 best 답안을 확인!"
   ]
  },
  {
   "cell_type": "markdown",
   "id": "ecb498a7",
   "metadata": {},
   "source": [
    "## 나머지가 1이 되는 수 찾기\n",
    "<img src=\"img/Level 1_나머지가 1이 되는 수 찾기.png\" height=500px width=500px align=\"left\">"
   ]
  },
  {
   "cell_type": "code",
   "execution_count": 4,
   "id": "64c9d71c",
   "metadata": {},
   "outputs": [],
   "source": [
    "def solution(n):\n",
    "    # 2 ~ (n - 1) 까지의 숫자 중, 나머지가 1인 숫자만 추출\n",
    "    result = []\n",
    "    for x in range(2, n):\n",
    "        r = n % x\n",
    "        if r == 1:\n",
    "            result.append(x)\n",
    "\n",
    "    # 추출된 숫자들 중, 최솟값 구하기\n",
    "    answer = min(result)\n",
    "\n",
    "    return answer"
   ]
  },
  {
   "cell_type": "code",
   "execution_count": 5,
   "id": "b66f6b7b",
   "metadata": {},
   "outputs": [
    {
     "data": {
      "text/plain": [
       "3"
      ]
     },
     "execution_count": 5,
     "metadata": {},
     "output_type": "execute_result"
    }
   ],
   "source": [
    "# Test Case 1\n",
    "n = 10\n",
    "solution(n)"
   ]
  },
  {
   "cell_type": "code",
   "execution_count": 6,
   "id": "0bd2a59c",
   "metadata": {},
   "outputs": [
    {
     "data": {
      "text/plain": [
       "11"
      ]
     },
     "execution_count": 6,
     "metadata": {},
     "output_type": "execute_result"
    }
   ],
   "source": [
    "# Test Case 2\n",
    "n = 12\n",
    "solution(n)"
   ]
  },
  {
   "cell_type": "markdown",
   "id": "7e834a93",
   "metadata": {},
   "source": [
    "### 다른 사람의 풀이\n",
    "- 다른 사람의 풀이를 보니, 풀이 방식은 나와 동일하나 list comprehension을 사용하여 코드를 훨씬 간결하게 작성하였음!\n",
    "    - 다만, 1과 n 값에 대해서는 for loop가 돌 필요가 없는데, 이 분은 그 경우를 제외하지 않고 for loop를 돌렸음\n",
    "```python\n",
    "    def solution(n):\n",
    "        return [x for x in range(1, n + 1) if n % x == 1][0]\n",
    "```"
   ]
  }
 ],
 "metadata": {
  "kernelspec": {
   "display_name": "Python 3 (ipykernel)",
   "language": "python",
   "name": "python3"
  },
  "language_info": {
   "codemirror_mode": {
    "name": "ipython",
    "version": 3
   },
   "file_extension": ".py",
   "mimetype": "text/x-python",
   "name": "python",
   "nbconvert_exporter": "python",
   "pygments_lexer": "ipython3",
   "version": "3.9.12"
  }
 },
 "nbformat": 4,
 "nbformat_minor": 5
}
