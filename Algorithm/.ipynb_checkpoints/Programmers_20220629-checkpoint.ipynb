{
 "cells": [
  {
   "cell_type": "markdown",
   "id": "9fa295d6",
   "metadata": {},
   "source": [
    "# 코딩 테스트 연습"
   ]
  },
  {
   "cell_type": "markdown",
   "id": "acd762f3",
   "metadata": {},
   "source": [
    "## 크레인 인형뽑기 게임\n",
    "<img src=\"img/Level 1_크레인 인형뽑기 게임1.png\" height=500px width=500px>\n",
    "<img src=\"img/Level 1_크레인 인형뽑기 게임2.png\" height=500px width=500px>\n",
    "<img src=\"img/Level 1_크레인 인형뽑기 게임3.png\" height=500px width=500px>\n",
    "<img src=\"img/Level 1_크레인 인형뽑기 게임4.png\" height=500px width=500px>\n",
    "<img src=\"img/Level 1_크레인 인형뽑기 게임5.png\" height=500px width=500px>"
   ]
  },
  {
   "cell_type": "code",
   "execution_count": 1,
   "id": "1d33e12d",
   "metadata": {
    "ExecuteTime": {
     "end_time": "2022-06-29T02:20:19.398188Z",
     "start_time": "2022-06-29T02:20:19.384334Z"
    }
   },
   "outputs": [],
   "source": [
    "# Test Case\n",
    "board = [[0, 0, 0, 0, 0], \n",
    "         [0, 0, 1, 0, 3], \n",
    "         [0, 2, 5, 0, 1], \n",
    "         [4, 2, 4, 4, 2], \n",
    "         [3, 5, 1, 3, 1]]\n",
    "moves = [1, 5, 3, 5, 1, 2, 1, 4]"
   ]
  },
  {
   "cell_type": "code",
   "execution_count": 2,
   "id": "16e89f18",
   "metadata": {
    "ExecuteTime": {
     "end_time": "2022-06-29T02:20:19.891697Z",
     "start_time": "2022-06-29T02:20:19.856128Z"
    },
    "code_folding": []
   },
   "outputs": [
    {
     "name": "stdout",
     "output_type": "stream",
     "text": [
      "{1: [3, 4, 0, 0, 0], 2: [5, 2, 2, 0, 0], 3: [1, 4, 5, 1, 0], 4: [3, 4, 0, 0, 0], 5: [1, 2, 1, 3, 0]}\n",
      "Move: 1\n",
      "Move: 5\n",
      "Move: 3\n",
      "Move: 5\n",
      "Move: 1\n",
      "Move: 2\n",
      "Move: 1\n",
      "Move: 4\n",
      "뽑힌 인형 리스트: [4, 3, 1, 1, 3, 2, 4]\n",
      "##################################################\n",
      "터져서 사라진 인형의 개수: 4\n"
     ]
    }
   ],
   "source": [
    "# 게임 화면의 격자 상태를 보여주는 2차원 배열 board를 transpose(swap rows and columns)\n",
    "import numpy as np\n",
    "t_board = np.array(board).T.tolist()\n",
    "\n",
    "# 각 위치별로 쌓여있는 인형 리스트를 dictionary로 생성\n",
    "doll_dict = {}\n",
    "for i in range(len(t_board)):\n",
    "    # 크레인이 맨 위의 인형부터 뽑기 때문에, 인형 리스트에 reverse 옵션 적용해줘야 함!\n",
    "    t_board[i].reverse()\n",
    "    doll_dict[i + 1] = t_board[i]\n",
    "print(doll_dict)\n",
    "\n",
    "# 크레인이 뽑은 인형 리스트 만들기\n",
    "selected_list = []\n",
    "for move in moves:\n",
    "    print(f'Move: {move}')\n",
    "    # pop() 함수로 맨 마지막 값을 추출\n",
    "    # 즉, 크레인을 작동시킨 위치별로 위에 쌓인 인형부터 뽑기\n",
    "    while 0 in doll_dict[move]:\n",
    "        doll_dict[move].pop()\n",
    "\n",
    "    # 크레인을 작동시킨 위치에 더 이상 뽑을 인형이 없으면 not append \n",
    "    if len(doll_dict[move]) != 0:\n",
    "        selected_list.append(doll_dict[move].pop())\n",
    "        \n",
    "print(f'뽑힌 인형 리스트: {selected_list}')\n",
    "print('#' * 50)\n",
    "\n",
    "# 터져서 사라진 인형의 개수 계산\n",
    "cnt = 0\n",
    "while len(selected_list) != 0:\n",
    "    # 뽑은 인형 리스트에서 맨 마지막 값부터 하나씩 추출하여 값이 동일한지 비교\n",
    "    pop_doll = selected_list.pop()\n",
    "    if len(selected_list) != 0:\n",
    "        last_doll = selected_list[-1]\n",
    "    if pop_doll == last_doll:\n",
    "        cnt += 2\n",
    "print(f'터져서 사라진 인형의 개수: {cnt}')"
   ]
  },
  {
   "cell_type": "code",
   "execution_count": null,
   "id": "b5e72036",
   "metadata": {},
   "outputs": [],
   "source": []
  },
  {
   "cell_type": "code",
   "execution_count": null,
   "id": "6b65bc4c",
   "metadata": {},
   "outputs": [],
   "source": []
  },
  {
   "cell_type": "code",
   "execution_count": null,
   "id": "ec274df5",
   "metadata": {},
   "outputs": [],
   "source": []
  },
  {
   "cell_type": "code",
   "execution_count": 3,
   "id": "084fa8e4",
   "metadata": {
    "ExecuteTime": {
     "end_time": "2022-06-29T02:20:21.996802Z",
     "start_time": "2022-06-29T02:20:21.973010Z"
    }
   },
   "outputs": [],
   "source": [
    "import numpy as np\n",
    "\n",
    "def solution(board, moves):\n",
    "    # 게임 화면의 격자 상태를 보여주는 2차원 배열 board를 transpose(swap rows and columns)\n",
    "    t_board = np.array(board).T.tolist()\n",
    "\n",
    "    # 각 위치별로 쌓여있는 인형 리스트를 dictionary로 생성\n",
    "    doll_dict = {}\n",
    "    for i in range(len(t_board)):\n",
    "        # 크레인이 맨 위의 인형부터 뽑기 때문에, 인형 리스트에 reverse 옵션 적용해줘야 함!\n",
    "        t_board[i].reverse()\n",
    "        doll_dict[i + 1] = t_board[i]\n",
    "\n",
    "    # 크레인이 뽑은 인형 리스트 만들기\n",
    "    selected_list = []\n",
    "    for move in moves:\n",
    "        # pop() 함수로 맨 마지막 값을 추출\n",
    "        # 즉, 크레인을 작동시킨 위치별로 위에 쌓인 인형부터 뽑기\n",
    "        while 0 in doll_dict[move]:\n",
    "            doll_dict[move].pop()\n",
    "\n",
    "        # 크레인을 작동시킨 위치에 더 이상 뽑을 인형이 없으면 not append \n",
    "        if len(doll_dict[move]) != 0:\n",
    "            selected_list.append(doll_dict[move].pop())\n",
    "            \n",
    "    # 터져서 사라진 인형의 개수 계산\n",
    "    cnt = 0\n",
    "    while len(selected_list) != 0:\n",
    "        # 뽑은 인형 리스트에서 맨 마지막 값부터 하나씩 추출하여 값이 동일한지 비교\n",
    "        pop_doll = selected_list.pop()\n",
    "        if len(selected_list) != 0:\n",
    "            last_doll = selected_list[-1]\n",
    "        if pop_doll == last_doll:\n",
    "            cnt += 2\n",
    "\n",
    "    return cnt"
   ]
  },
  {
   "cell_type": "code",
   "execution_count": 4,
   "id": "03adc3d5",
   "metadata": {
    "ExecuteTime": {
     "end_time": "2022-06-29T02:20:22.809765Z",
     "start_time": "2022-06-29T02:20:22.783350Z"
    }
   },
   "outputs": [
    {
     "data": {
      "text/plain": [
       "4"
      ]
     },
     "execution_count": 4,
     "metadata": {},
     "output_type": "execute_result"
    }
   ],
   "source": [
    "# Test Case\n",
    "board = [[0, 0, 0, 0, 0], \n",
    "         [0, 0, 1, 0, 3], \n",
    "         [0, 2, 5, 0, 1], \n",
    "         [4, 2, 4, 4, 2], \n",
    "         [3, 5, 1, 3, 1]]\n",
    "moves = [1, 5, 3, 5, 1, 2, 1, 4]\n",
    "solution(board, moves)"
   ]
  }
 ],
 "metadata": {
  "kernelspec": {
   "display_name": "Python 3 (ipykernel)",
   "language": "python",
   "name": "python3"
  },
  "language_info": {
   "codemirror_mode": {
    "name": "ipython",
    "version": 3
   },
   "file_extension": ".py",
   "mimetype": "text/x-python",
   "name": "python",
   "nbconvert_exporter": "python",
   "pygments_lexer": "ipython3",
   "version": "3.9.12"
  },
  "toc": {
   "base_numbering": 1,
   "nav_menu": {},
   "number_sections": true,
   "sideBar": true,
   "skip_h1_title": false,
   "title_cell": "Table of Contents",
   "title_sidebar": "Contents",
   "toc_cell": false,
   "toc_position": {},
   "toc_section_display": true,
   "toc_window_display": false
  },
  "varInspector": {
   "cols": {
    "lenName": 16,
    "lenType": 16,
    "lenVar": 40
   },
   "kernels_config": {
    "python": {
     "delete_cmd_postfix": "",
     "delete_cmd_prefix": "del ",
     "library": "var_list.py",
     "varRefreshCmd": "print(var_dic_list())"
    },
    "r": {
     "delete_cmd_postfix": ") ",
     "delete_cmd_prefix": "rm(",
     "library": "var_list.r",
     "varRefreshCmd": "cat(var_dic_list()) "
    }
   },
   "types_to_exclude": [
    "module",
    "function",
    "builtin_function_or_method",
    "instance",
    "_Feature"
   ],
   "window_display": false
  }
 },
 "nbformat": 4,
 "nbformat_minor": 5
}
