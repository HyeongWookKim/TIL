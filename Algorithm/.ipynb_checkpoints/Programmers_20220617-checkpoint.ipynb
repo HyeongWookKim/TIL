{
 "cells": [
  {
   "cell_type": "markdown",
   "id": "c06c86f2",
   "metadata": {},
   "source": [
    "# 코딩테스트 연습"
   ]
  },
  {
   "cell_type": "markdown",
   "id": "489118f7",
   "metadata": {},
   "source": [
    "## 소수 만들기\n",
    "<img src=\"img/Level 1_소수 만들기.png\" height=500px width=500px align=\"left\">"
   ]
  },
  {
   "cell_type": "code",
   "execution_count": 1,
   "id": "f70f5ec3",
   "metadata": {},
   "outputs": [],
   "source": [
    "def solution(nums):\n",
    "    # 배열 내 가능한 모든 조합 구하기 (중복 허용 x)\n",
    "    def comb(arr, r):\n",
    "        for i in range(len(arr)):\n",
    "            if r == 1: # 종료 조건\n",
    "                yield [arr[i]]\n",
    "            else:\n",
    "                # 배열에서 한 원소를 뽑고, 그 원소를 제외한 나머지 배열로 다시 함수 호출\n",
    "                for next in comb(arr[i + 1:], r - 1):\n",
    "                    yield [arr[i]] + next\n",
    "    comb_list = list(comb(nums, 3))\n",
    "\n",
    "    # 각 조합 별 sum 값 계산\n",
    "    sum_list = []\n",
    "    for comb in comb_list:\n",
    "        sum_list.append(sum(comb))\n",
    "\n",
    "    # 배열 내 소수가 되는 경우의 개수 찾기\n",
    "    result = []\n",
    "    for num in sum_list:\n",
    "        cnt = 0\n",
    "        # 해당 숫자의 약수의 개수 계산\n",
    "        for i in range(1, num + 1):\n",
    "            if num % i == 0:\n",
    "                cnt += 1 # 약수에 해당되면 cnt 값을 +1\n",
    "        if cnt == 2: # 약수의 개수가 2개인 경우만 소수에 해당\n",
    "            result.append(num)\n",
    "\n",
    "    return len(result)"
   ]
  },
  {
   "cell_type": "code",
   "execution_count": 2,
   "id": "45c58de1",
   "metadata": {},
   "outputs": [
    {
     "data": {
      "text/plain": [
       "1"
      ]
     },
     "execution_count": 2,
     "metadata": {},
     "output_type": "execute_result"
    }
   ],
   "source": [
    "# Test Case 1\n",
    "nums = [1, 2, 3, 4]\n",
    "solution(nums)"
   ]
  },
  {
   "cell_type": "code",
   "execution_count": 3,
   "id": "cd28e85c",
   "metadata": {},
   "outputs": [
    {
     "data": {
      "text/plain": [
       "4"
      ]
     },
     "execution_count": 3,
     "metadata": {},
     "output_type": "execute_result"
    }
   ],
   "source": [
    "# Test Case 2\n",
    "nums = [1, 2, 7, 6, 4]\n",
    "solution(nums)"
   ]
  },
  {
   "cell_type": "markdown",
   "id": "075b1d39",
   "metadata": {},
   "source": [
    "### 다른 사람의 풀이\n",
    "- ```itertools``` 라이브러리 내 ```combinations``` 함수 활용\n",
    "```python\n",
    "    from itertools import combinations\n",
    "    def solution(nums):   \n",
    "        answer = 0\n",
    "        for a in combinations(nums, 3): # 각 조합 별 배열로 for loop 실행\n",
    "            cand = sum(a) # 각 조합 별 sum 값 계산\n",
    "            for j in range(2, cand): # 1은 제외하고 나머지 숫자로 for loop 실행\n",
    "                if cand % j== 0:\n",
    "                    break # 약수인 경우, break 실행하여 else 문으로 넘어가도록 설정\n",
    "            # (break로 빠져나가지 않는다면) for 문의 반복이 끝나고 나서 else 문이 실행되게 됨\n",
    "            else:\n",
    "                answer += 1 # 약수에 해당되면 answer 값을 +1\n",
    "        return answer\n",
    "```"
   ]
  },
  {
   "cell_type": "markdown",
   "id": "6f8bab7d",
   "metadata": {},
   "source": [
    "## 숫자 문자열과 영단어\n",
    "<img src=\"img/Level 1_숫자 문자열과 영단어1.png\" height=500px width=500px align=\"left\">\n",
    "<img src=\"img/Level 1_숫자 문자열과 영단어2.png\" height=500px width=500px align=\"left\">\n",
    "<img src=\"img/Level 1_숫자 문자열과 영단어3.png\" height=500px width=500px align=\"left\">"
   ]
  },
  {
   "cell_type": "code",
   "execution_count": 4,
   "id": "05fe42bc",
   "metadata": {},
   "outputs": [],
   "source": [
    "def solution(s):\n",
    "    # 각 영단어 별 매칭되는 숫자를 dictionary로 생성\n",
    "    num_dict = {\n",
    "        'zero': '0',\n",
    "        'one': '1',\n",
    "        'two': '2',\n",
    "        'three': '3',\n",
    "        'four': '4',\n",
    "        'five': '5',\n",
    "        'six': '6',\n",
    "        'seven': '7',\n",
    "        'eight': '8',\n",
    "        'nine': '9'\n",
    "    }\n",
    "\n",
    "    # 입력 받은 문자열을 모두 소문자로 변경\n",
    "    s = s.lower()\n",
    "\n",
    "    # Dictionary의 key 값이 입력 받은 문자열 내 존재하는지 확인하여 replace 실행\n",
    "    for k in num_dict.keys():\n",
    "        if k in s:\n",
    "            # 입력 받은 문자열 내 알파벳(즉, 숫자가 아닌 문자) 값들은 모두 숫자로 변경\n",
    "            s = s.replace(k, num_dict[k])\n",
    "\n",
    "    # 완성된 문자열을 int로 변경\n",
    "    answer = int(s)\n",
    "\n",
    "    return answer"
   ]
  },
  {
   "cell_type": "code",
   "execution_count": 5,
   "id": "5b14b212",
   "metadata": {},
   "outputs": [
    {
     "data": {
      "text/plain": [
       "1478"
      ]
     },
     "execution_count": 5,
     "metadata": {},
     "output_type": "execute_result"
    }
   ],
   "source": [
    "# Test Case 1\n",
    "s = \"one4seveneight\"\n",
    "solution(s)"
   ]
  },
  {
   "cell_type": "code",
   "execution_count": 6,
   "id": "a718197c",
   "metadata": {},
   "outputs": [
    {
     "data": {
      "text/plain": [
       "234567"
      ]
     },
     "execution_count": 6,
     "metadata": {},
     "output_type": "execute_result"
    }
   ],
   "source": [
    "# Test Case 2\n",
    "s = \"23four5six7\"\n",
    "solution(s)"
   ]
  },
  {
   "cell_type": "code",
   "execution_count": 7,
   "id": "234b83e7",
   "metadata": {},
   "outputs": [
    {
     "data": {
      "text/plain": [
       "234567"
      ]
     },
     "execution_count": 7,
     "metadata": {},
     "output_type": "execute_result"
    }
   ],
   "source": [
    "# Test Case 3\n",
    "s = \"2three45sixseven\"\n",
    "solution(s)"
   ]
  },
  {
   "cell_type": "code",
   "execution_count": 8,
   "id": "059b25db",
   "metadata": {},
   "outputs": [
    {
     "data": {
      "text/plain": [
       "123"
      ]
     },
     "execution_count": 8,
     "metadata": {},
     "output_type": "execute_result"
    }
   ],
   "source": [
    "# Test Case 4\n",
    "s = \"123\"\n",
    "solution(s)"
   ]
  },
  {
   "cell_type": "markdown",
   "id": "167fa207",
   "metadata": {},
   "source": [
    "### 다른 사람의 풀이\n",
    "- Best 답안 역시 나와 동일한 방법으로 풀이를 진행하였음\n",
    "```python\n",
    "    num_dic = {\n",
    "        \"zero\": \"0\", \"one\": \"1\", \"two\": \"2\", \"three\": \"3\", \n",
    "        \"four\": \"4\", \"five\": \"5\", \"six\": \"6\", \"seven\": \"7\", \n",
    "        \"eight\": \"8\", \"nine\": \"9\"\n",
    "    }\n",
    "    def solution(s):\n",
    "        answer = s\n",
    "        for key, value in num_dic.items():\n",
    "            answer = answer.replace(key, value)\n",
    "        return int(answer)\n",
    "```"
   ]
  }
 ],
 "metadata": {
  "kernelspec": {
   "display_name": "Python 3 (ipykernel)",
   "language": "python",
   "name": "python3"
  },
  "language_info": {
   "codemirror_mode": {
    "name": "ipython",
    "version": 3
   },
   "file_extension": ".py",
   "mimetype": "text/x-python",
   "name": "python",
   "nbconvert_exporter": "python",
   "pygments_lexer": "ipython3",
   "version": "3.9.12"
  }
 },
 "nbformat": 4,
 "nbformat_minor": 5
}
