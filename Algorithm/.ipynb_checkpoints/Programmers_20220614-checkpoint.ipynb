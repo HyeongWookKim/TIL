{
 "cells": [
  {
   "cell_type": "markdown",
   "id": "4533fa56",
   "metadata": {},
   "source": [
    "# 코딩테스트 연습"
   ]
  },
  {
   "cell_type": "markdown",
   "id": "204792f9",
   "metadata": {},
   "source": [
    "## 부족한 금액 계산하기\n",
    "<img src=\"img/Level 1_부족한 금액 계산하기.png\" height=500px width=500px align=\"left\">"
   ]
  },
  {
   "cell_type": "code",
   "execution_count": 1,
   "id": "49010f00",
   "metadata": {},
   "outputs": [],
   "source": [
    "def solution(price, money, count):\n",
    "    # 놀이기구를 count번 탔을 때 필요한 금액 구하기\n",
    "    price_list = []\n",
    "    for n in range(1, count + 1):\n",
    "        new_price = price * n\n",
    "        price_list.append(new_price)\n",
    "\n",
    "    # 필요한 총 비용 계산\n",
    "    total_price = sum(price_list)\n",
    "\n",
    "    # 현재 보유한 금액에서 얼마가 모자라는지 계산\n",
    "    price_diff = money - total_price\n",
    "\n",
    "    # 금액이 부족하면 부족한 금액을 return\n",
    "    if price_diff < 0:\n",
    "        price_diff = abs(price_diff)\n",
    "        return price_diff\n",
    "    # 금액이 부족하지 않으면 0을 return\n",
    "    else:\n",
    "        return 0"
   ]
  },
  {
   "cell_type": "code",
   "execution_count": 2,
   "id": "fb32d9e2",
   "metadata": {},
   "outputs": [
    {
     "data": {
      "text/plain": [
       "10"
      ]
     },
     "execution_count": 2,
     "metadata": {},
     "output_type": "execute_result"
    }
   ],
   "source": [
    "# Test Case\n",
    "price = 3\n",
    "money = 20\n",
    "count = 4\n",
    "solution(price, money, count)"
   ]
  },
  {
   "cell_type": "markdown",
   "id": "f72cd9ca",
   "metadata": {},
   "source": [
    "### 다른 사람의 풀이\n",
    "- 산술평균을 활용\n",
    "    - price * 1 + price * 2 + price * 3 + price * 4 + ... = price * (1 + 2 + 3 + 4 + ...) = price * (n * (n + 1) / 2)\n",
    "```python\n",
    "def solution(price, money, count):\n",
    "    return max(0, price * (count + 1) * count // 2 - money)\n",
    "```"
   ]
  },
  {
   "cell_type": "markdown",
   "id": "e7400e93",
   "metadata": {},
   "source": [
    "## 최소직사각형\n",
    "<img src=\"img/Level 1_최소직사각형1.png\" height=500px width=500px align=\"left\">\n",
    "<img src=\"img/Level 1_최소직사각형2.png\" height=500px width=500px align=\"left\">"
   ]
  },
  {
   "cell_type": "code",
   "execution_count": 3,
   "id": "2c76326a",
   "metadata": {},
   "outputs": [],
   "source": [
    "def solution(sizes):\n",
    "    # 가로 길이와 세로 길이를 비교해서,\n",
    "    # 길이가 긴 쪽과 짧은 쪽으로 구성된 리스트를 각각 생성\n",
    "    long_list = []\n",
    "    short_list = []\n",
    "    for w, h in sizes:\n",
    "        long_size = max(w, h)\n",
    "        short_size = min(w, h)\n",
    "        long_list.append(long_size)\n",
    "        short_list.append(short_size)\n",
    "\n",
    "    # 길이가 긴 쪽과 짧은 쪽 리스트 각각의 최댓값 구하기\n",
    "    max_long = max(long_list)\n",
    "    max_short = max(short_list)\n",
    "\n",
    "    # 모든 명함을 수납할 수 있는 가장 작은 지갑의 크기 계산\n",
    "    min_size = max_long * max_short\n",
    "\n",
    "    return min_size"
   ]
  },
  {
   "cell_type": "code",
   "execution_count": 4,
   "id": "70c0ad0e",
   "metadata": {},
   "outputs": [
    {
     "data": {
      "text/plain": [
       "4000"
      ]
     },
     "execution_count": 4,
     "metadata": {},
     "output_type": "execute_result"
    }
   ],
   "source": [
    "# Test Case 1\n",
    "sizes = [[60, 50], [30, 70], [60, 30], [80, 40]]\n",
    "solution(sizes)"
   ]
  },
  {
   "cell_type": "code",
   "execution_count": 5,
   "id": "901aed9e",
   "metadata": {},
   "outputs": [
    {
     "data": {
      "text/plain": [
       "120"
      ]
     },
     "execution_count": 5,
     "metadata": {},
     "output_type": "execute_result"
    }
   ],
   "source": [
    "# Test Case 2\n",
    "sizes = [[10, 7], [12, 3], [8, 15], [14, 7], [5, 15]]\n",
    "solution(sizes)"
   ]
  },
  {
   "cell_type": "code",
   "execution_count": 6,
   "id": "ebf24d8b",
   "metadata": {},
   "outputs": [
    {
     "data": {
      "text/plain": [
       "133"
      ]
     },
     "execution_count": 6,
     "metadata": {},
     "output_type": "execute_result"
    }
   ],
   "source": [
    "# Test Case 3\n",
    "sizes = [[14, 4], [19, 6], [6, 16], [18, 7], [7, 11]]\n",
    "solution(sizes)"
   ]
  },
  {
   "cell_type": "markdown",
   "id": "f9fa6fca",
   "metadata": {},
   "source": [
    "### 다른 사람의 풀이\n",
    "- max(큰 사이즈 리스트 중에 가장 큰 값, 작은 사이즈 리스트 중에 가장 큰 값)\n",
    "```python\n",
    "def solution(sizes):\n",
    "    return max(max(x) for x in sizes) * max(min(x) for x in sizes)\n",
    "```"
   ]
  }
 ],
 "metadata": {
  "kernelspec": {
   "display_name": "Python 3 (ipykernel)",
   "language": "python",
   "name": "python3"
  },
  "language_info": {
   "codemirror_mode": {
    "name": "ipython",
    "version": 3
   },
   "file_extension": ".py",
   "mimetype": "text/x-python",
   "name": "python",
   "nbconvert_exporter": "python",
   "pygments_lexer": "ipython3",
   "version": "3.9.12"
  }
 },
 "nbformat": 4,
 "nbformat_minor": 5
}
