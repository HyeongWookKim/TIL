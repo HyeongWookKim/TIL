{
 "cells": [
  {
   "cell_type": "markdown",
   "id": "9fa295d6",
   "metadata": {},
   "source": [
    "# 코딩 테스트 연습"
   ]
  },
  {
   "cell_type": "markdown",
   "id": "acd762f3",
   "metadata": {},
   "source": [
    "## 크레인 인형뽑기 게임\n",
    "<img src=\"img/Level 1_크레인 인형뽑기 게임1.png\" height=500px width=500px>\n",
    "<img src=\"img/Level 1_크레인 인형뽑기 게임2.png\" height=500px width=500px>\n",
    "<img src=\"img/Level 1_크레인 인형뽑기 게임3.png\" height=500px width=500px>\n",
    "<img src=\"img/Level 1_크레인 인형뽑기 게임4.png\" height=500px width=500px>\n",
    "<img src=\"img/Level 1_크레인 인형뽑기 게임5.png\" height=500px width=500px>"
   ]
  },
  {
   "cell_type": "markdown",
   "id": "9041786b",
   "metadata": {},
   "source": [
    "- 내가 작성한 아래의 코드는 예시로 주어진 테스트 케이스는 통과하지만, 다른 테스트 케이스들에서 모두 에러가 발생하였음...\n",
    "- 어느 부분이 문제인지 파악을 하지 못하여 다른 사람들의 풀이를 확인하였음"
   ]
  },
  {
   "cell_type": "code",
   "execution_count": 1,
   "id": "084fa8e4",
   "metadata": {
    "ExecuteTime": {
     "end_time": "2022-07-01T01:21:49.447166Z",
     "start_time": "2022-07-01T01:21:49.427700Z"
    }
   },
   "outputs": [],
   "source": [
    "import numpy as np\n",
    "\n",
    "def solution(board, moves):\n",
    "    # 게임 화면의 격자 상태를 보여주는 2차원 배열 board를 transpose(swap rows and columns)\n",
    "    t_board = np.array(board).T.tolist()\n",
    "\n",
    "    # 각 위치별로 쌓여있는 인형 리스트를 dictionary로 생성\n",
    "    doll_dict = {}\n",
    "    for i in range(len(t_board)):\n",
    "        # 크레인이 맨 위의 인형부터 뽑기 때문에, 인형 리스트에 reverse 옵션 적용해줘야 함!\n",
    "        t_board[i].reverse()\n",
    "        doll_dict[i + 1] = t_board[i]\n",
    "\n",
    "    # 크레인이 뽑은 인형 리스트 만들기\n",
    "    selected_list = []\n",
    "    for move in moves:\n",
    "        # pop() 함수로 맨 마지막 값을 추출\n",
    "        # 즉, 크레인을 작동시킨 위치별로 위에 쌓인 인형부터 뽑기\n",
    "        while 0 in doll_dict[move]:\n",
    "            doll_dict[move].pop()\n",
    "\n",
    "        # 크레인을 작동시킨 위치에 더 이상 뽑을 인형이 없으면 not append \n",
    "        if len(doll_dict[move]) != 0:\n",
    "            selected_list.append(doll_dict[move].pop())\n",
    "            \n",
    "    # 터져서 사라진 인형의 개수 계산\n",
    "    cnt = 0\n",
    "    while len(selected_list) != 0:\n",
    "        # 뽑은 인형 리스트에서 맨 마지막 값부터 하나씩 추출하여 값이 동일한지 비교\n",
    "        pop_doll = selected_list.pop()\n",
    "        if len(selected_list) != 0:\n",
    "            last_doll = selected_list[-1]\n",
    "        if pop_doll == last_doll:\n",
    "            cnt += 2\n",
    "\n",
    "    return cnt"
   ]
  },
  {
   "cell_type": "code",
   "execution_count": 2,
   "id": "03adc3d5",
   "metadata": {
    "ExecuteTime": {
     "end_time": "2022-07-01T01:21:49.462563Z",
     "start_time": "2022-07-01T01:21:49.449667Z"
    }
   },
   "outputs": [
    {
     "data": {
      "text/plain": [
       "4"
      ]
     },
     "execution_count": 2,
     "metadata": {},
     "output_type": "execute_result"
    }
   ],
   "source": [
    "# Test Case\n",
    "board = [[0, 0, 0, 0, 0], \n",
    "         [0, 0, 1, 0, 3], \n",
    "         [0, 2, 5, 0, 1], \n",
    "         [4, 2, 4, 4, 2], \n",
    "         [3, 5, 1, 3, 1]]\n",
    "moves = [1, 5, 3, 5, 1, 2, 1, 4]\n",
    "solution(board, moves)"
   ]
  },
  {
   "cell_type": "markdown",
   "id": "2351e5cb",
   "metadata": {},
   "source": [
    "### 다른 사람의 풀이\n",
    "- \"좋아요\"를 가장 많이 받으신 분의 풀이는 아래와 같음\n",
    "- 이렇게 쉽게 풀 수 있었던 문제를..\n",
    "```python\n",
    "    def solution(board, moves):\n",
    "    answer = 0 # 터져서 사라진 인형의 개수 초깃값\n",
    "    bucket = [] # 뽑힌 인형을 담아줄 리스트\n",
    "\n",
    "    # 순서대로 크레인의 움직임 위치 받아오기\n",
    "    for move in moves:\n",
    "        for line in board:\n",
    "            # 크레인의 위치에 인형이 있는 경우\n",
    "            if line[move - 1] != 0: # move는 1부터 칸 전체 길이까지의 숫자이므로, index로 사용하기 위해 1을 빼주기\n",
    "                bucket.append(line[move - 1]) # bucket 리스트에 인형을 넣어주고,\n",
    "                line[move - 1] = 0 # 해당 위치는 인형이 없는 상태인 0으로 변경\n",
    "                break # 인형을 뽑은 뒤에는 굳이 남아 있는 인형들을 뒤질 필요가 없으므로 break 설정\n",
    "\n",
    "        # 인형을 하나씩 뽑을 때마다 bucket 리스트 내에 겹치는 인형이 있는지 확인\n",
    "        if len(bucket) >= 2 and bucket[-1] == bucket[-2]: # 맨 뒤부터 2개 이상씩 겹치는 인형이 있는지 확인\n",
    "            answer += 2 # 터져서 사라진 인형의 개수 +2\n",
    "            bucket = bucket[:-2] # 터져서 사라진 인형들은 bucket 리스트에서 제외시켜 줌\n",
    "\n",
    "    return answer\n",
    "```"
   ]
  }
 ],
 "metadata": {
  "kernelspec": {
   "display_name": "Python 3 (ipykernel)",
   "language": "python",
   "name": "python3"
  },
  "language_info": {
   "codemirror_mode": {
    "name": "ipython",
    "version": 3
   },
   "file_extension": ".py",
   "mimetype": "text/x-python",
   "name": "python",
   "nbconvert_exporter": "python",
   "pygments_lexer": "ipython3",
   "version": "3.9.12"
  },
  "toc": {
   "base_numbering": 1,
   "nav_menu": {},
   "number_sections": true,
   "sideBar": true,
   "skip_h1_title": false,
   "title_cell": "Table of Contents",
   "title_sidebar": "Contents",
   "toc_cell": false,
   "toc_position": {},
   "toc_section_display": true,
   "toc_window_display": false
  },
  "varInspector": {
   "cols": {
    "lenName": 16,
    "lenType": 16,
    "lenVar": 40
   },
   "kernels_config": {
    "python": {
     "delete_cmd_postfix": "",
     "delete_cmd_prefix": "del ",
     "library": "var_list.py",
     "varRefreshCmd": "print(var_dic_list())"
    },
    "r": {
     "delete_cmd_postfix": ") ",
     "delete_cmd_prefix": "rm(",
     "library": "var_list.r",
     "varRefreshCmd": "cat(var_dic_list()) "
    }
   },
   "types_to_exclude": [
    "module",
    "function",
    "builtin_function_or_method",
    "instance",
    "_Feature"
   ],
   "window_display": false
  }
 },
 "nbformat": 4,
 "nbformat_minor": 5
}
