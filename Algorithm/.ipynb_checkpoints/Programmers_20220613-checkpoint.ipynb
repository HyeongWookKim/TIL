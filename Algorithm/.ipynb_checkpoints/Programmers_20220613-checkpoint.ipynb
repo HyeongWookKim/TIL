{
 "cells": [
  {
   "cell_type": "markdown",
   "id": "6ab5b3b3",
   "metadata": {},
   "source": [
    "# 스킬 체크 (몸풀기)"
   ]
  },
  {
   "cell_type": "markdown",
   "id": "bb2cbd0c",
   "metadata": {},
   "source": [
    "## Level 1 - Q1"
   ]
  },
  {
   "cell_type": "code",
   "execution_count": 1,
   "id": "138f723a",
   "metadata": {},
   "outputs": [],
   "source": [
    "# Test Case\n",
    "n = 118372"
   ]
  },
  {
   "cell_type": "code",
   "execution_count": 2,
   "id": "00bcd527",
   "metadata": {},
   "outputs": [
    {
     "name": "stdout",
     "output_type": "stream",
     "text": [
      "873211\n"
     ]
    }
   ],
   "source": [
    "n_list = [int(i) for i in str(n)]\n",
    "sorted_n_list = sorted(n_list, reverse = True)\n",
    "sorted_n_list2 = [str(j) for j in sorted_n_list]\n",
    "new_n = int(''.join(sorted_n_list2))\n",
    "print(new_n)"
   ]
  },
  {
   "cell_type": "markdown",
   "id": "65ba6bdb",
   "metadata": {},
   "source": [
    "## Level 1 - Q2"
   ]
  },
  {
   "cell_type": "code",
   "execution_count": 3,
   "id": "6375052f",
   "metadata": {},
   "outputs": [],
   "source": [
    "# Test Case\n",
    "a = [1, 2, 3, 4]\n",
    "b = [-3, -1, 0, 2]"
   ]
  },
  {
   "cell_type": "code",
   "execution_count": 4,
   "id": "b8a7faa0",
   "metadata": {},
   "outputs": [
    {
     "name": "stdout",
     "output_type": "stream",
     "text": [
      "3\n"
     ]
    }
   ],
   "source": [
    "result = []\n",
    "for int_a, int_b in zip(a, b):\n",
    "    a_dot_b = int_a * int_b\n",
    "    result.append(a_dot_b)\n",
    "    result_sum = sum(result)\n",
    "print(result_sum)"
   ]
  },
  {
   "cell_type": "markdown",
   "id": "8670b805",
   "metadata": {},
   "source": [
    "# 코딩테스트 연습"
   ]
  },
  {
   "cell_type": "markdown",
   "id": "340c6cdb",
   "metadata": {},
   "source": [
    "## Level 1 - 문자열 내 마음대로 정렬하기\n",
    "<img src=\"img/Level 1_문자열 내 마음대로 정렬하기.png\" height=500px width=500px align=\"left\">"
   ]
  },
  {
   "cell_type": "code",
   "execution_count": 5,
   "id": "423e9fa4",
   "metadata": {},
   "outputs": [],
   "source": [
    "# Test Case 1\n",
    "strings = [\"sun\", \"bed\", \"car\"]\n",
    "n = 1"
   ]
  },
  {
   "cell_type": "code",
   "execution_count": 6,
   "id": "cdd8e821",
   "metadata": {},
   "outputs": [],
   "source": [
    "# Test Case 2\n",
    "strings = [\"abce\", \"abcd\", \"cdx\"]\n",
    "n = 2"
   ]
  },
  {
   "cell_type": "code",
   "execution_count": 7,
   "id": "9a2d4895",
   "metadata": {},
   "outputs": [
    {
     "name": "stdout",
     "output_type": "stream",
     "text": [
      "['abcd', 'abce', 'cdx']\n",
      "['abcd', 'abce', 'cdx']\n"
     ]
    }
   ],
   "source": [
    "# Index n의 문자가 같은 문자열이 여럿일 경우에 대한 처리\n",
    "# >> 사전 순으로 앞선 문자열이 앞쪽에 위치할 수 있도록 sort를 한 번 해주고 시작!\n",
    "sorted_strings = sorted(strings)\n",
    "print(sorted_strings)\n",
    "\n",
    "# Index n의 문자 값을 기준으로 각 문자열 정렬\n",
    "result = sorted(sorted_strings, key = lambda x: x[n])\n",
    "print(result)"
   ]
  },
  {
   "cell_type": "markdown",
   "id": "ea5d7e75",
   "metadata": {},
   "source": [
    "## Level 1 - 이상한 문자 만들기\n",
    "<img src=\"img/Level 1_이상한 문자 만들기.png\" height=500px width=500px align=\"left\">"
   ]
  },
  {
   "cell_type": "code",
   "execution_count": 8,
   "id": "7c804c05",
   "metadata": {},
   "outputs": [],
   "source": [
    "# Test Case\n",
    "s = \"try hello world\""
   ]
  },
  {
   "cell_type": "code",
   "execution_count": 9,
   "id": "287470dc",
   "metadata": {},
   "outputs": [
    {
     "name": "stdout",
     "output_type": "stream",
     "text": [
      "['try', 'hello', 'world']\n",
      "['TrY', 'HeLlO', 'WoRlD']\n",
      "TrY HeLlO WoRlD\n"
     ]
    }
   ],
   "source": [
    "# 공백을 기준으로 split 해서 리스트 생성\n",
    "# 즉, 단어 별로 구성된 리스트 생성!\n",
    "word_list = s.split(' ')\n",
    "print(word_list)\n",
    "\n",
    "# 각 단어의 짝수/홀수번째 문자를 처리해주기 위한 로직\n",
    "# 짝수: 대문자로 변경 / 홀수: 소문자로 변경\n",
    "new_word_list = []\n",
    "for word in word_list:\n",
    "    new_w = ''\n",
    "    for idx in range(len(word)):\n",
    "        # 짝수인 경우\n",
    "        if idx % 2 == 0:\n",
    "            new_w += word[idx].upper()\n",
    "        # 홀수인 경우\n",
    "        else:\n",
    "            new_w += word[idx].lower()\n",
    "    new_word_list.append(new_w)\n",
    "print(new_word_list)\n",
    "\n",
    "# 대/소문자 변환이 끝난 단어들로 구성된 리스트를 하나의 문자열로 결합\n",
    "result = ' '.join(new_word_list) # 띄어쓰기 기준으로 join 해야 함!\n",
    "print(result)"
   ]
  }
 ],
 "metadata": {
  "kernelspec": {
   "display_name": "Python 3 (ipykernel)",
   "language": "python",
   "name": "python3"
  },
  "language_info": {
   "codemirror_mode": {
    "name": "ipython",
    "version": 3
   },
   "file_extension": ".py",
   "mimetype": "text/x-python",
   "name": "python",
   "nbconvert_exporter": "python",
   "pygments_lexer": "ipython3",
   "version": "3.9.12"
  }
 },
 "nbformat": 4,
 "nbformat_minor": 5
}
