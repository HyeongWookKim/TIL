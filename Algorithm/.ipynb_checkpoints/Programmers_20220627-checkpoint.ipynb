{
 "cells": [
  {
   "cell_type": "markdown",
   "id": "71d3a797",
   "metadata": {},
   "source": [
    "# 코딩 테스트 연습"
   ]
  },
  {
   "cell_type": "markdown",
   "id": "58f747b2",
   "metadata": {},
   "source": [
    "## 다트 게임\n",
    "<img src=\"img/Level 1_다트 게임1.png\" height=500px width=500px>\n",
    "<img src=\"img/Level 1_다트 게임2.png\" height=500px width=500px>\n",
    "<img src=\"img/Level 1_다트 게임3.png\" height=500px width=500px>"
   ]
  },
  {
   "cell_type": "markdown",
   "id": "c7d9ae0a",
   "metadata": {},
   "source": [
    "- 이 문제는 풀이 방식을 너무 어렵게만 생각을 했던 탓에 풀지 못하였음\n",
    "- 아래에 작성한 다른 사람들의 풀이를 참고해서 복습할 것!"
   ]
  },
  {
   "cell_type": "markdown",
   "id": "4dd9c52e",
   "metadata": {},
   "source": [
    "## 다른 사람의 풀이 1\n",
    "- 이 분의 풀이는 그냥 각각의 결과 값을 하나씩 계산하면서 리스트에 넣어준 뒤, 총합을 계산하는 방식임"
   ]
  },
  {
   "cell_type": "code",
   "execution_count": 1,
   "id": "98fd614c",
   "metadata": {
    "ExecuteTime": {
     "end_time": "2022-06-27T08:26:25.160654Z",
     "start_time": "2022-06-27T08:26:25.136885Z"
    }
   },
   "outputs": [],
   "source": [
    "def solution(dartResult):\n",
    "    # 각 보너스별로 몇 제곱을 의미하는지를 보여주는 dictionary 생성\n",
    "    opt_dict = {\n",
    "        \"S\": 1, \"D\": 2, \"T\": 3\n",
    "    }\n",
    "\n",
    "    # 두 자리 숫자인 \"10\"을 예외처리 해주기 위해, \"X\"라는 문자로 변환\n",
    "    dartResult = dartResult.replace(\"10\", \"X\")\n",
    "\n",
    "    # 각각의 결과 값을 하나하나 계산하면서 stack이라는 빈 리스트에 넣어준 뒤,\n",
    "    # 리스트 내 요소 값의 합을 구하는 방식!\n",
    "    stack = []\n",
    "    for s in dartResult:\n",
    "        # 해당 문자가 숫자인 경우(숫자 10을 문자 \"X\"로 예외처리한 부분까지 고려)\n",
    "        if s.isdigit() or s == \"X\":\n",
    "            stack.append(10 if s == \"X\" else int(s)) # 0 ~ 10(점수)을 모두 int로 변환\n",
    "        # 보너스별 점수 계산\n",
    "        elif s in [\"S\", \"D\", \"T\"]:\n",
    "            num = stack.pop() # 리스트 내 맨 마지막 요소 값을 꺼내서 사용\n",
    "            stack.append(num ** opt_dict[s])\n",
    "        # \"#\" 옵션이 존재하는 경우\n",
    "        elif s == \"#\":\n",
    "            stack[-1] *= -1 # 리스트 내 맨 마지막 요소 값에 -1 곱하기\n",
    "        # \"*\" 옵션이 존재하는 경우\n",
    "        elif s == \"*\":\n",
    "            num = stack.pop() # 리스트 내 맨 마지막 요소 값을 꺼내서 사용\n",
    "            # 리스트 내 맨 마지막 요소 값을 꺼냈는데 아직 리스트 내 요소가 존재한다면,\n",
    "            # 앞서 꺼낸 맨 마지막 값에 2를 곱해준 뒤에 다시 추가!\n",
    "            if len(stack) != 0:\n",
    "                stack[-1] *= 2\n",
    "            stack.append(num * 2)\n",
    "            \n",
    "    return sum(stack)"
   ]
  },
  {
   "cell_type": "code",
   "execution_count": 2,
   "id": "bb73ce48",
   "metadata": {
    "ExecuteTime": {
     "end_time": "2022-06-27T08:26:25.191908Z",
     "start_time": "2022-06-27T08:26:25.164246Z"
    }
   },
   "outputs": [
    {
     "data": {
      "text/plain": [
       "37"
      ]
     },
     "execution_count": 2,
     "metadata": {},
     "output_type": "execute_result"
    }
   ],
   "source": [
    "# Test Case 1\n",
    "dartResult = \"1S2D*3T\"\n",
    "solution(dartResult)"
   ]
  },
  {
   "cell_type": "code",
   "execution_count": 3,
   "id": "d8c682f4",
   "metadata": {
    "ExecuteTime": {
     "end_time": "2022-06-27T08:26:25.207074Z",
     "start_time": "2022-06-27T08:26:25.194943Z"
    }
   },
   "outputs": [
    {
     "data": {
      "text/plain": [
       "9"
      ]
     },
     "execution_count": 3,
     "metadata": {},
     "output_type": "execute_result"
    }
   ],
   "source": [
    "# Test Case 2\n",
    "dartResult = \"1D2S#10S\"\n",
    "solution(dartResult)"
   ]
  },
  {
   "cell_type": "code",
   "execution_count": 4,
   "id": "810d580f",
   "metadata": {
    "ExecuteTime": {
     "end_time": "2022-06-27T08:26:25.222244Z",
     "start_time": "2022-06-27T08:26:25.210108Z"
    }
   },
   "outputs": [
    {
     "data": {
      "text/plain": [
       "3"
      ]
     },
     "execution_count": 4,
     "metadata": {},
     "output_type": "execute_result"
    }
   ],
   "source": [
    "# Test Case 3\n",
    "dartResult = \"1D2S0T\"\n",
    "solution(dartResult)"
   ]
  },
  {
   "cell_type": "code",
   "execution_count": 5,
   "id": "92b11fb3",
   "metadata": {
    "ExecuteTime": {
     "end_time": "2022-06-27T08:26:25.238028Z",
     "start_time": "2022-06-27T08:26:25.223836Z"
    }
   },
   "outputs": [
    {
     "data": {
      "text/plain": [
       "23"
      ]
     },
     "execution_count": 5,
     "metadata": {},
     "output_type": "execute_result"
    }
   ],
   "source": [
    "# Test Case 4\n",
    "dartResult = \"1S*2T*3S\"\n",
    "solution(dartResult)"
   ]
  },
  {
   "cell_type": "code",
   "execution_count": 6,
   "id": "45b802db",
   "metadata": {
    "ExecuteTime": {
     "end_time": "2022-06-27T08:26:25.253496Z",
     "start_time": "2022-06-27T08:26:25.240599Z"
    }
   },
   "outputs": [
    {
     "data": {
      "text/plain": [
       "5"
      ]
     },
     "execution_count": 6,
     "metadata": {},
     "output_type": "execute_result"
    }
   ],
   "source": [
    "# Test Case 5\n",
    "dartResult = \"1D#2S*3S\"\n",
    "solution(dartResult)"
   ]
  },
  {
   "cell_type": "code",
   "execution_count": 7,
   "id": "5fbf0bc9",
   "metadata": {
    "ExecuteTime": {
     "end_time": "2022-06-27T08:26:25.269185Z",
     "start_time": "2022-06-27T08:26:25.257515Z"
    }
   },
   "outputs": [
    {
     "data": {
      "text/plain": [
       "-4"
      ]
     },
     "execution_count": 7,
     "metadata": {},
     "output_type": "execute_result"
    }
   ],
   "source": [
    "# Test Case 6\n",
    "dartResult = \"1T2D3D#\"\n",
    "solution(dartResult)"
   ]
  },
  {
   "cell_type": "code",
   "execution_count": 8,
   "id": "51385cf1",
   "metadata": {
    "ExecuteTime": {
     "end_time": "2022-06-27T08:26:25.284487Z",
     "start_time": "2022-06-27T08:26:25.272219Z"
    }
   },
   "outputs": [
    {
     "data": {
      "text/plain": [
       "59"
      ]
     },
     "execution_count": 8,
     "metadata": {},
     "output_type": "execute_result"
    }
   ],
   "source": [
    "# Test Case 7\n",
    "dartResult = \"1D2S3T*\"\n",
    "solution(dartResult)"
   ]
  },
  {
   "cell_type": "markdown",
   "id": "8f04b937",
   "metadata": {},
   "source": [
    "## 다른 사람의 풀이 2\n",
    "- 이 분은 정규표현식을 활용하여 문제를 풀었음\n",
    "    - Python의 ```re``` 라이브러리를 활용하였음"
   ]
  },
  {
   "cell_type": "code",
   "execution_count": 9,
   "id": "3046eedc",
   "metadata": {
    "ExecuteTime": {
     "end_time": "2022-06-27T08:26:25.299338Z",
     "start_time": "2022-06-27T08:26:25.287408Z"
    }
   },
   "outputs": [],
   "source": [
    "import re\n",
    "\n",
    "def solution(dartResult):\n",
    "    bonus = {'S' : 1, 'D' : 2, 'T' : 3}\n",
    "    option = {'' : 1, '*' : 2, '#' : -1}\n",
    "    \n",
    "    p = re.compile('(\\d+)([SDT])([*#]?)') # 찾을 패턴 설정 >> \"숫자|보너스|옵션\" 형태\n",
    "    dart = p.findall(dartResult) # 위에서 설정한 정규표현식 패턴과 매칭되는 모든 문자열을 리스트로 반환\n",
    "    \n",
    "    for i in range(len(dart)):\n",
    "        if dart[i][2] == '*' and i > 0: # 옵션이 \"*\"로 주어진 경우\n",
    "            dart[i - 1] *= 2 # \"*\" 문자를 기준으로 앞에 있는 모든 점수에 2 곱하기\n",
    "        dart[i] = int(dart[i][0]) ** bonus[dart[i][1]] * option[dart[i][2]] # 문제에서 주어진 rule에 따라 점수 계산\n",
    "\n",
    "    answer = sum(dart)\n",
    "    return answer"
   ]
  },
  {
   "cell_type": "code",
   "execution_count": 10,
   "id": "a7c536e5",
   "metadata": {
    "ExecuteTime": {
     "end_time": "2022-06-27T08:26:25.314301Z",
     "start_time": "2022-06-27T08:26:25.306362Z"
    }
   },
   "outputs": [
    {
     "data": {
      "text/plain": [
       "37"
      ]
     },
     "execution_count": 10,
     "metadata": {},
     "output_type": "execute_result"
    }
   ],
   "source": [
    "# Test Case 1\n",
    "dartResult = \"1S2D*3T\"\n",
    "solution(dartResult)"
   ]
  },
  {
   "cell_type": "code",
   "execution_count": 11,
   "id": "8a3ff3d4",
   "metadata": {
    "ExecuteTime": {
     "end_time": "2022-06-27T08:26:25.329633Z",
     "start_time": "2022-06-27T08:26:25.317866Z"
    }
   },
   "outputs": [
    {
     "data": {
      "text/plain": [
       "9"
      ]
     },
     "execution_count": 11,
     "metadata": {},
     "output_type": "execute_result"
    }
   ],
   "source": [
    "# Test Case 2\n",
    "dartResult = \"1D2S#10S\"\n",
    "solution(dartResult)"
   ]
  },
  {
   "cell_type": "code",
   "execution_count": 12,
   "id": "c088613b",
   "metadata": {
    "ExecuteTime": {
     "end_time": "2022-06-27T08:26:25.345592Z",
     "start_time": "2022-06-27T08:26:25.331539Z"
    }
   },
   "outputs": [
    {
     "data": {
      "text/plain": [
       "3"
      ]
     },
     "execution_count": 12,
     "metadata": {},
     "output_type": "execute_result"
    }
   ],
   "source": [
    "# Test Case 3\n",
    "dartResult = \"1D2S0T\"\n",
    "solution(dartResult)"
   ]
  },
  {
   "cell_type": "code",
   "execution_count": 13,
   "id": "b064b091",
   "metadata": {
    "ExecuteTime": {
     "end_time": "2022-06-27T08:26:25.361348Z",
     "start_time": "2022-06-27T08:26:25.348097Z"
    }
   },
   "outputs": [
    {
     "data": {
      "text/plain": [
       "23"
      ]
     },
     "execution_count": 13,
     "metadata": {},
     "output_type": "execute_result"
    }
   ],
   "source": [
    "# Test Case 4\n",
    "dartResult = \"1S*2T*3S\"\n",
    "solution(dartResult)"
   ]
  },
  {
   "cell_type": "code",
   "execution_count": 14,
   "id": "07bbfb76",
   "metadata": {
    "ExecuteTime": {
     "end_time": "2022-06-27T08:26:25.376376Z",
     "start_time": "2022-06-27T08:26:25.364426Z"
    }
   },
   "outputs": [
    {
     "data": {
      "text/plain": [
       "5"
      ]
     },
     "execution_count": 14,
     "metadata": {},
     "output_type": "execute_result"
    }
   ],
   "source": [
    "# Test Case 5\n",
    "dartResult = \"1D#2S*3S\"\n",
    "solution(dartResult)"
   ]
  },
  {
   "cell_type": "code",
   "execution_count": 15,
   "id": "99f40ee7",
   "metadata": {
    "ExecuteTime": {
     "end_time": "2022-06-27T08:26:25.391351Z",
     "start_time": "2022-06-27T08:26:25.380963Z"
    }
   },
   "outputs": [
    {
     "data": {
      "text/plain": [
       "-4"
      ]
     },
     "execution_count": 15,
     "metadata": {},
     "output_type": "execute_result"
    }
   ],
   "source": [
    "# Test Case 6\n",
    "dartResult = \"1T2D3D#\"\n",
    "solution(dartResult)"
   ]
  },
  {
   "cell_type": "code",
   "execution_count": 16,
   "id": "4bf0f0c8",
   "metadata": {
    "ExecuteTime": {
     "end_time": "2022-06-27T08:26:25.406620Z",
     "start_time": "2022-06-27T08:26:25.394751Z"
    }
   },
   "outputs": [
    {
     "data": {
      "text/plain": [
       "59"
      ]
     },
     "execution_count": 16,
     "metadata": {},
     "output_type": "execute_result"
    }
   ],
   "source": [
    "# Test Case 7\n",
    "dartResult = \"1D2S3T*\"\n",
    "solution(dartResult)"
   ]
  }
 ],
 "metadata": {
  "kernelspec": {
   "display_name": "Python 3 (ipykernel)",
   "language": "python",
   "name": "python3"
  },
  "language_info": {
   "codemirror_mode": {
    "name": "ipython",
    "version": 3
   },
   "file_extension": ".py",
   "mimetype": "text/x-python",
   "name": "python",
   "nbconvert_exporter": "python",
   "pygments_lexer": "ipython3",
   "version": "3.9.12"
  },
  "toc": {
   "base_numbering": 1,
   "nav_menu": {},
   "number_sections": true,
   "sideBar": true,
   "skip_h1_title": false,
   "title_cell": "Table of Contents",
   "title_sidebar": "Contents",
   "toc_cell": false,
   "toc_position": {},
   "toc_section_display": true,
   "toc_window_display": false
  },
  "varInspector": {
   "cols": {
    "lenName": 16,
    "lenType": 16,
    "lenVar": 40
   },
   "kernels_config": {
    "python": {
     "delete_cmd_postfix": "",
     "delete_cmd_prefix": "del ",
     "library": "var_list.py",
     "varRefreshCmd": "print(var_dic_list())"
    },
    "r": {
     "delete_cmd_postfix": ") ",
     "delete_cmd_prefix": "rm(",
     "library": "var_list.r",
     "varRefreshCmd": "cat(var_dic_list()) "
    }
   },
   "types_to_exclude": [
    "module",
    "function",
    "builtin_function_or_method",
    "instance",
    "_Feature"
   ],
   "window_display": false
  }
 },
 "nbformat": 4,
 "nbformat_minor": 5
}
